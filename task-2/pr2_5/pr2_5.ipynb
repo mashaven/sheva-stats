{
 "cells": [
  {
   "cell_type": "markdown",
   "metadata": {},
   "source": [
    "# Завдання 5: Міри центральної тенденції\n",
    "\n",
    "У цій частині практичної роботі дослідимо варіабельність середнього значення вибірки, центральну граничну теорему та кореляцію.\n",
    "\n",
    "Для самоконтролю використовуються тести автогрейдера (from gofer.ok import check). Для їх викоритання необхідно інсталювати два додаткових модуля (через CMD.exe Prompt в ANACONDA NAVIGATOR) а саме:\n",
    "- **okgrade** (pip install okgrade) https://okgrade.readthedocs.io/_/downloads/en/latest/pdf/\n",
    "- **gofer** (pip install git+https://github.com/grading/gradememaybe.git) https://okgrade.readthedocs.io/en/latest/install/\n",
    "\n",
    "Якщо Ви не бажаєти їх викоритовувати, то закоментуйте відповідний рядок і не використовуйте рядки тесту (наприклад check('tests/q1_2.py'), ...). В такому разі Ви можете переглянути наявні тести у відповідній директорії"
   ]
  },
  {
   "cell_type": "code",
   "execution_count": null,
   "metadata": {},
   "outputs": [],
   "source": [
    "# Run this cell, but please don't change it.\n",
    "\n",
    "# These lines import the Numpy and Datascience modules.\n",
    "import numpy as np\n",
    "from datascience import *\n",
    "\n",
    "# These lines do some fancy plotting magic.\n",
    "import matplotlib\n",
    "%matplotlib inline\n",
    "import matplotlib.pyplot as plots\n",
    "plots.style.use('fivethirtyeight')\n",
    "import warnings\n",
    "warnings.simplefilter('ignore', FutureWarning)\n",
    "warnings.simplefilter('ignore', UserWarning)\n",
    "\n",
    "# These lines load the tests.\n",
    "from gofer.ok import check"
   ]
  },
  {
   "cell_type": "markdown",
   "metadata": {},
   "source": [
    "## 1. Наскільки точний Старий Служака? \n",
    "\n",
    "(Примітка: назва походить звідси (http://web.pdx.edu/~jfreder/M212/oldfaithful.pdf, https://uk.wikipedia.org/wiki/%D0%A1%D1%82%D0%B0%D1%80%D0%B8%D0%B9_%D0%A1%D0%BB%D1%83%D0%B6%D0%B0%D0%BA%D0%B0)\n",
    "\n",
    "Старий Служака (Old Faithful) — гейзер в Єллоустоунському національному парку в центральній частині США. Він відомий тим, що вивергається за досить регулярним графіком. Ви можете переглянути відео нижче."
   ]
  },
  {
   "cell_type": "code",
   "execution_count": null,
   "metadata": {},
   "outputs": [],
   "source": [
    "# Для довідки: для підлючення YouTube відео в\n",
    "# Jupyter notebook аргументом є ідентифікатор для такого відео з відповідного URL:\n",
    "# https://www.youtube.com/watch?v=wE8NDuzt8eg\n",
    "from IPython.display import YouTubeVideo\n",
    "YouTubeVideo(\"wE8NDuzt8eg\")"
   ]
  },
  {
   "cell_type": "markdown",
   "metadata": {},
   "source": [
    "Деякі виверження Old Faithful тривають довше, ніж інші. При тривалому виверженні зазвичай доводиться довше чекати наступного виверження.\n",
    "\n",
    "Якщо Ви відвідаєте Йеллоустоун або будете спостерігати on-line, то можете передбачити, коли буде наступне виверження, аби перевірити себе та прийти вчасно аби спостерігати за гейзером, коли він \"прокинеться\". Щоб спрогнозувати одну змінну через іншу, першим кроком є розуміння зв'язку між ними.\n",
    "\n",
    "Набір даних має один рядок для кожного виверження, що спостерігається. Він включає наступні стовпці:\n",
    "- **duration**: тривалість виверження, у хвилинах\n",
    "- **wait**: час між цим виверженням та наступним, також у хвилинах\n",
    "\n",
    "Запустіть наступну комірку, щоб завантажити набір даних."
   ]
  },
  {
   "cell_type": "code",
   "execution_count": null,
   "metadata": {},
   "outputs": [],
   "source": [
    "faithful = Table.read_table(\"faithful.csv\")\n",
    "faithful"
   ]
  },
  {
   "cell_type": "markdown",
   "metadata": {},
   "source": [
    "** <b>Завдання 1.1</b> **\n",
    "<br/>\n",
    "Побудуйте діаграму розсіювання даних (`scatter`). Зазвичай параметр (стовпець), який ми спробуємо передбачити (час між виверженням), відкладаємо на вертикальну вісь, а інший параметр (стовпець) – на горизонтальну вісь."
   ]
  },
  {
   "cell_type": "code",
   "execution_count": null,
   "metadata": {},
   "outputs": [],
   "source": [
    "..."
   ]
  },
  {
   "cell_type": "markdown",
   "metadata": {},
   "source": [
    "Подивіться на графік розсіювання. Чи є зв'язок між часом очікування та тривалістю виверження лінійним і чи є зв'язок взагалі?\n",
    "\n",
    "Спостерігається щось більше, ніж лінійна залежність. Тривалість вивержень, здається, групується; є група коротких вивержень і група довших. Усередині кожного з кластерів ці значення здаються приблизно лінійно корельованими, але можливо з іншим коефіцієнтом кореляції.\n",
    "\n",
    "Загальний зв'язок є позитивним, що означає, що більш тривалі виверження мають триваліший час очікування. Навіть коли зв'язок складніший, ніж проста лінійна залежність, ми все одно можемо обчислити кореляцію."
   ]
  },
  {
   "cell_type": "markdown",
   "metadata": {},
   "source": [
    "Спочатку ми будемо переводити дані в стандартні одиниці. Згадайте, якщо `nums` є масивом чисел, то\n",
    "\n",
    "    (nums - np.mean(nums)) / np.std(nums)\n",
    "\n",
    "...це масив цих чисел у стандартних одиницях."
   ]
  },
  {
   "cell_type": "markdown",
   "metadata": {},
   "source": [
    "** <b>Завдання 1.2</b> **\n",
    "<br/>\n",
    "Обчисліть середнє значення та стандартне відхилення тривалості виверження та часу очікування.  **Потім** створіть таблицю під назвою `faithful_standard` яка містить тривалість виверження та час очікування в стандартних одиницях.  (Стовпці повинні бути названі `\"duration (standard units)\"` та `\"wait (standard units)\"`."
   ]
  },
  {
   "cell_type": "code",
   "execution_count": null,
   "metadata": {
    "for_assignment_type": "student"
   },
   "outputs": [],
   "source": [
    "duration_mean = ...\n",
    "duration_std = ...\n",
    "wait_mean = ...\n",
    "wait_std = ...\n",
    "\n",
    "faithful_standard = Table().with_columns(\n",
    "    \"duration (standard units)\", ...,\n",
    "    \"wait (standard units)\", ...)\n",
    "faithful_standard"
   ]
  },
  {
   "cell_type": "code",
   "execution_count": null,
   "metadata": {},
   "outputs": [],
   "source": [
    "check('tests/q1_2.py')"
   ]
  },
  {
   "cell_type": "markdown",
   "metadata": {},
   "source": [
    "** <b>Завдання 1.3</b> **\n",
    "<br/>\n",
    "Знову діаграму розсіювання даних (`scatter`), але цього разу в стандартних одиницях."
   ]
  },
  {
   "cell_type": "code",
   "execution_count": null,
   "metadata": {},
   "outputs": [],
   "source": [
    "..."
   ]
  },
  {
   "cell_type": "markdown",
   "metadata": {},
   "source": [
    "Як Ви можете помітити, ця діаграма розсіювання виглядає так само, як і попередня!  Дані насправді різні, але осі масштабуються по-різному.  (Метод `scatter` масштабує осі так, що дані заповнюють доступний простір.)  Тому важливо читати поділки на вісях."
   ]
  },
  {
   "cell_type": "markdown",
   "metadata": {},
   "source": [
    "** <b>Завдання 1.4</b> **\n",
    "<br/>\n",
    "Яке з наступних чисел, на вашу думку, найближче відповідає кореляції між тривалістю виверження та часом очікування у цьому наборі даних? Оцініть за діаграмою розсіювання.\n",
    "\n",
    "* -1\n",
    "* 0\n",
    "* 1\n",
    "\n",
    "Запишіть свою здогадку у змінну `closest_correlation`."
   ]
  },
  {
   "cell_type": "code",
   "execution_count": null,
   "metadata": {},
   "outputs": [],
   "source": [
    "closest_correlation = ..."
   ]
  },
  {
   "cell_type": "code",
   "execution_count": null,
   "metadata": {},
   "outputs": [],
   "source": [
    "check('tests/q1_4.py')"
   ]
  },
  {
   "cell_type": "markdown",
   "metadata": {},
   "source": [
    "** <b>Завдання 1.5</b> **\n",
    "<br/>\n",
    "Обчисліть кореляцію `r`.  *Підказка:* Використайте `faithful_standard`.  Скористайтеся лекцією, або іншими джерелами, наприклад https://inferentialthinking.com/chapters/15/1/Correlation.html."
   ]
  },
  {
   "cell_type": "code",
   "execution_count": null,
   "metadata": {},
   "outputs": [],
   "source": [
    "r = ...\n",
    "r"
   ]
  },
  {
   "cell_type": "code",
   "execution_count": null,
   "metadata": {},
   "outputs": [],
   "source": [
    "check('tests/q1_5.py')"
   ]
  },
  {
   "cell_type": "markdown",
   "metadata": {},
   "source": [
    "## 2.  Варіабельність середнього значення вибірки\n",
    "\n",
    "Відповідно до центральної граничної теореми розподіл ймовірностей середнього значення великої випадкової вибірки є нормальним. Нормальна крива центрується відносно середнього за всією сукупністю. Деякі з середніх за вибірками вище, а деякі нижче, але відхилення від середнього значення генеральної сукупності приблизно симетричні в обидві боки, як ми неодноразово бачили. Формально теорія ймовірностей показує, що середнє значення вибірки є незміщеною оцінкою середнього значення генеральної сукупності.\n",
    "\n",
    "У наших прикладах ми також помічали, що середні значення великих вибірок, як правило, щільніше згруповані навколо середнього значення генеральної сукупності, ніж середні значення менших вибірок. У цьому розділі ми оцінимо варіабельність середнього значення вибірки і визначемо зв'язок між варіабельністю і розміром вибірки.\n",
    "\n",
    "Давайте подивимося, наприклад, на відстань між обраними точками для уявного варіограмного аналізу даних (для h-графіків)."
   ]
  },
  {
   "cell_type": "code",
   "execution_count": null,
   "metadata": {},
   "outputs": [],
   "source": [
    "distances = Table.read_table('point_distance.csv').select(\"distance\")\n",
    "distances"
   ]
  },
  {
   "cell_type": "code",
   "execution_count": null,
   "metadata": {},
   "outputs": [],
   "source": [
    "distance_mean = np.mean(distances.column('distance'))\n",
    "distance_mean"
   ]
  },
  {
   "cell_type": "code",
   "execution_count": null,
   "metadata": {},
   "outputs": [],
   "source": [
    "distances.hist('distance', bins=np.arange(0, 300000+10000*2, 10000))\n",
    "plots.scatter(distance_mean, 0, marker='^', color='red', s=100);"
   ]
  },
  {
   "cell_type": "markdown",
   "metadata": {},
   "source": [
    "** <b>Завдання 2.1</b> **\n",
    "<br/>\n",
    "Зрозуміло, що генеральна сукупність не підпорядковується нормальному розподілу. Майте це на увазі, коли ми будемо виконувати ці завдання.\n",
    "\n",
    "Давайте візьмемо випадкові вибірки та подивимося на розподіл ймовірностей середнього значення вибірки. Як і раніше, ми будемо використовувати моделювання, щоб отримати емпіричну апроксимацію цього розподілу.\n",
    "\n",
    "Для цього ми визначимо функцію `simulate_sample_mean` оскільки нижче ми збираємося змінювати розмір вибірки для моделювання. Аргументами функції є: назва таблиці, назва стовпця який містить параметр, розмір вибірки, кількість симуляцій.\n",
    "\n",
    "\"Допишіть\" функцію `simulate_sample_mean`. Ви не зможете виконати подальші кроки, якщо не доробити функцію належним чином, тому це завдання є критичним."
   ]
  },
  {
   "cell_type": "code",
   "execution_count": null,
   "metadata": {},
   "outputs": [],
   "source": [
    "\"\"\"Empirical distribution of random sample means\"\"\"\n",
    "\n",
    "def simulate_sample_mean(table, label, sample_size, repetitions):\n",
    "    \n",
    "    means = []\n",
    "\n",
    "    for i in np.arange(repetitions):\n",
    "        new_sample = ...\n",
    "        new_sample_mean = ...\n",
    "        ...\n",
    "\n",
    "    sample_means = Table().with_column('Sample Means', means)\n",
    "    \n",
    "    # Display empirical histogram and print all relevant quantities – don't change this!\n",
    "    sample_means.hist(bins=20)\n",
    "    plots.xlabel('Sample Means')\n",
    "    plots.title('Sample Size ' + str(sample_size))\n",
    "    print(\"Sample size: \", sample_size)\n",
    "    print(\"Population mean:\", np.mean(table.column(label)))\n",
    "    print(\"Average of sample means: \", np.mean(means))\n",
    "    print(\"Population SD:\", np.std(table.column(label)))\n",
    "    print(\"SD of sample means:\", np.std(means))"
   ]
  },
  {
   "cell_type": "markdown",
   "metadata": {},
   "source": [
    "** <b>Завдання 2.2</b> **\n",
    "<br/>\n",
    "У наступній клітинці ми створимо вибірку розміром 100 із таблиці відстаней і побудуємо її діаграму розсіювання за допомогою нашої нової функції `simulate_sample_mean`."
   ]
  },
  {
   "cell_type": "code",
   "execution_count": null,
   "metadata": {},
   "outputs": [],
   "source": [
    "simulate_sample_mean(distances, 'distance', 100, 10000) \n",
    "plots.xlim(50000, 100000)"
   ]
  },
  {
   "cell_type": "markdown",
   "metadata": {},
   "source": [
    "У наступних двох клітинках змоделюйте середнє значення випадкової вибірки з 400 відстаней та 625 відстаней, відповідно. У кожному випадку виконайте 10 000 симуляцій для кожного з цих двох моделювань. Не турбуйтеся про рядок `plots.xlim` – він лише для того, аби гарантувати, що всі графіки матимуть однакову вісь x."
   ]
  },
  {
   "cell_type": "code",
   "execution_count": null,
   "metadata": {
    "for_assignment_type": "student"
   },
   "outputs": [],
   "source": [
    "simulate_sample_mean(..., ..., ..., ...)\n",
    "plots.xlim(50000, 100000)"
   ]
  },
  {
   "cell_type": "code",
   "execution_count": null,
   "metadata": {
    "for_assignment_type": "student"
   },
   "outputs": [],
   "source": [
    "simulate_sample_mean(..., ..., ..., ...)\n",
    "plots.xlim(50000, 100000)"
   ]
  },
  {
   "cell_type": "markdown",
   "metadata": {},
   "source": [
    "Ми бачимо центральну граничну теорему в дії – гістограми вибіркових середніх є приблизно нормальними, навіть якщо гістограма самих відстаней далека від нормальної.\n",
    "\n",
    "Ми також бачимо, що кожна з трьох гістограм вибіркових середніх центрована дуже близько до середнього генеральної сукупності. У кожному випадку «середнє середніх значень вибірки» дуже близько до середнього значення сукупності. Обидва значення віведено під кожною гістограмою, порівняйте їх. Як і очікувалося, середнє значення вибірки є незміщеною оцінкою середнього значення генеральної сукупності."
   ]
  },
  {
   "cell_type": "markdown",
   "metadata": {},
   "source": [
    "** <b>Завдання 2.3</b> **\n",
    "<br/>\n",
    "Нижче ми розглянемо, що відбувається, коли беремо фіксовану вибірку, а потім використовуємо її з різною кількістю повторних симуляцій. Як зміниться розподіл перерахованих середніх?"
   ]
  },
  {
   "cell_type": "code",
   "execution_count": null,
   "metadata": {},
   "outputs": [],
   "source": [
    "simulate_sample_mean(distances, 'distance', 100, 1000)\n",
    "plots.xlim(50000, 100000)"
   ]
  },
  {
   "cell_type": "code",
   "execution_count": null,
   "metadata": {},
   "outputs": [],
   "source": [
    "simulate_sample_mean(distances, 'distance', 100, 5000)\n",
    "plots.xlim(50000, 100000)"
   ]
  },
  {
   "cell_type": "code",
   "execution_count": null,
   "metadata": {},
   "outputs": [],
   "source": [
    "simulate_sample_mean(distances, 'distance', 100, 10000)\n",
    "plots.xlim(50000, 100000)"
   ]
  },
  {
   "cell_type": "markdown",
   "metadata": {},
   "source": [
    "Присвойте змінній `bootstrap_sampled_SD` ціле число, що відповідає вашій відповіді на наступне запитання:\n",
    "\n",
    "Якщо ми збільшуємо кількість симуляцій початкової вибірки (фіксованого розміру вибірки), то SD середнього значення вибірки буде...\n",
    "\n",
    "1. Зростати\n",
    "2. Зменшуватися\n",
    "3. Залишатися приблизно таким самим\n",
    "4. Широко варіювати"
   ]
  },
  {
   "cell_type": "code",
   "execution_count": null,
   "metadata": {},
   "outputs": [],
   "source": [
    "bootstrap_sampled_SD = ..."
   ]
  },
  {
   "cell_type": "code",
   "execution_count": null,
   "metadata": {},
   "outputs": [],
   "source": [
    "simulate_sample_mean(distances, 'distance', 100, 500)\n",
    "plots.xlim(50000, 100000)"
   ]
  },
  {
   "cell_type": "code",
   "execution_count": null,
   "metadata": {},
   "outputs": [],
   "source": [
    "check('tests/q2_3.py')"
   ]
  },
  {
   "cell_type": "markdown",
   "metadata": {},
   "source": [
    "** <b>Завдання 2.4</b> **\n",
    "<br/>\n",
    "Далі, давайте подумаємо про те, як відношення між SD генеральної сукупності, SD вибірки та SD середнього значення вибірки змінюються при зміні розміру вибірки. Яке з наступних тверджень є вірним? Присвойте змінній `pop_vs_sample` ціле число, що відповідає вашій відповіді на запитання. Щоб отримати деяку підказку, ви можете запустити моделювання в клітинках нижче.\n",
    "\n",
    "1. SD вибірки зменшується зі збільшенням розміру вибірки, SD середнього значення вибірки зменшується зі збільшенням розміру вибірки.\n",
    "2. SD вибірки збільшується зі збільшенням розміру вибірки, SD середнього значення вибірки залишається незмінним із збільшенням розміру вибірки.\n",
    "3. SD вибірки стає більш схожим з SD генеральної сукупності зі збільшенням розміру вибірки, SD середнього значення вибірки стає менше зі збільшенням розміру вибірки.\n",
    "4. SD вибірки стає більш схожим із SD генеральної сукупності зі збільшенням розміру вибірки, SD середнього значення вибірки залишається незмінним із збільшенням розміру вибірки."
   ]
  },
  {
   "cell_type": "code",
   "execution_count": null,
   "metadata": {},
   "outputs": [],
   "source": [
    "pop_vs_sample = ..."
   ]
  },
  {
   "cell_type": "code",
   "execution_count": null,
   "metadata": {},
   "outputs": [],
   "source": [
    "check('tests/q2_4.py')"
   ]
  },
  {
   "cell_type": "markdown",
   "metadata": {},
   "source": [
    "Погляньмо, що відбудеться: по-перше, ми обчислюємо SD генеральної сукупності, щоб ми могли порівняти SD кожної вибірки з SD генеральної сукупності."
   ]
  },
  {
   "cell_type": "code",
   "execution_count": null,
   "metadata": {
    "scrolled": true
   },
   "outputs": [],
   "source": [
    "pop_sd = np.std(distances.column(\"distance\"))\n",
    "pop_sd"
   ]
  },
  {
   "cell_type": "markdown",
   "metadata": {},
   "source": [
    "Далі подивимося як поведе себе невелика вибірка. Запустіть наступні комірки кілька разів, щоб побачити, як змінюється SD вибірки від вибірки до вибірки. Налаштуйте вибірку за необхідності."
   ]
  },
  {
   "cell_type": "code",
   "execution_count": null,
   "metadata": {
    "scrolled": false
   },
   "outputs": [],
   "source": [
    "sample_10 = distances.sample(10)\n",
    "sample_10.hist(\"distance\")\n",
    "print(\"Sample SD: \", np.std(sample_10.column(\"distance\")))\n",
    "simulate_sample_mean(sample_10, 'distance', 10, 1000)\n",
    "plots.xlim(5,120000)\n",
    "plots.ylim(0, .0001);"
   ]
  },
  {
   "cell_type": "code",
   "execution_count": null,
   "metadata": {
    "scrolled": false
   },
   "outputs": [],
   "source": [
    "sample_200 = distances.sample(200)\n",
    "sample_200.hist(\"distance\")\n",
    "print(\"Sample SD: \", np.std(sample_200.column(\"distance\")))\n",
    "simulate_sample_mean(sample_200, 'distance', 200, 1000)\n",
    "plots.xlim(5,100000)\n",
    "plots.ylim(0, .00015);"
   ]
  },
  {
   "cell_type": "code",
   "execution_count": null,
   "metadata": {
    "scrolled": false
   },
   "outputs": [],
   "source": [
    "sample_1000 = distances.sample(1000)\n",
    "sample_1000.hist(\"distance\")\n",
    "print(\"Sample SD: \", np.std(sample_1000.column(\"distance\")))\n",
    "simulate_sample_mean(sample_1000, 'distance', 1000, 1000)\n",
    "plots.xlim(5,100000)\n",
    "plots.ylim(0, .00025);"
   ]
  },
  {
   "cell_type": "markdown",
   "metadata": {},
   "source": [
    "Проілюструємо цю тенденцію. Нижче ви побачите, як середня абсолютна помилка SD для генеральної сукупності змінюється залежно від розміру вибірки (N)."
   ]
  },
  {
   "cell_type": "code",
   "execution_count": null,
   "metadata": {
    "scrolled": false
   },
   "outputs": [],
   "source": [
    "# Don't change this cell, just run it!\n",
    "sample_n_errors = make_array()\n",
    "for i in np.arange(10, 200, 10):\n",
    "    sample_n_errors = np.append(sample_n_errors, np.average([abs(np.std(distances.sample(i).column(\"distance\"))-pop_sd)\n",
    "                                                             for d in np.arange(100)]))\n",
    "Table().with_columns(\"Average absolute error in SD\", sample_n_errors, \"N\", np.arange(10, 200, 10)).plot(\"N\", \"Average absolute error in SD\")\n",
    "\n"
   ]
  },
  {
   "cell_type": "markdown",
   "metadata": {},
   "source": [
    "Ви повинні помітити, що розподіл середніх робиться спадаючим, і що розподіл вибірки дедалі більше схожий на розподіл генеральної сукупності зі збільшенням розміру вибірки.\n",
    "\n",
    "Чи є зв'язок між розміром вибірки та абсолютною помилкою стандартного відхилення? Визначте цей зв'язок — якщо у вас виникли питання, перегляньте  за посиланням https://inferentialthinking.com/chapters/14/5/Variability_of_the_Sample_Mean.html"
   ]
  },
  {
   "cell_type": "markdown",
   "metadata": {},
   "source": [
    "## Контроль"
   ]
  },
  {
   "cell_type": "markdown",
   "metadata": {},
   "source": [
    "Ви закінчили з даною частиною практичної роботи! Аби перевірити, що всі завдання виконані вірно, виконайте наступні дії...\n",
    "- **ВАЖЛИВО** Перш ніж щось робити, виберіть, **Save and Checkpoint** з меню `File`. Будь ласка, зробіть це спочатку, перш ніж запускати клітинку нижче,\n",
    "- **запустіть усі тести та перевірте, чи всі вони пройшли успішно** (у наступній клітинці є перевірка для цього), \n",
    "- **Перегляньте notebook востаннє, перевірятися буде остаточний стан вашого notebook. Якщо ви вносили будь-які зміни, збережіть і запустіть всі рядки ще раз** Якщо ви вносили будь-які зміни, запустіть поллідовно всі рядки ще раз і збережіть **Save and Checkpoint** повторно."
   ]
  },
  {
   "cell_type": "code",
   "execution_count": null,
   "metadata": {
    "scrolled": false
   },
   "outputs": [],
   "source": [
    "# For your convenience, you can run this cell to run all the tests at once!\n",
    "import glob\n",
    "from gofer.ok import grade_notebook\n",
    "if not globals().get('__GOFER_GRADER__', False):\n",
    "    display(grade_notebook('pr2_5.ipynb', sorted(glob.glob('tests/q*.py'))))"
   ]
  },
  {
   "cell_type": "code",
   "execution_count": null,
   "metadata": {},
   "outputs": [],
   "source": []
  }
 ],
 "metadata": {
  "anaconda-cloud": {},
  "kernelspec": {
   "display_name": "Python 3 (ipykernel)",
   "language": "python",
   "name": "python3"
  },
  "lab": "lab01",
  "language_info": {
   "codemirror_mode": {
    "name": "ipython",
    "version": 3
   },
   "file_extension": ".py",
   "mimetype": "text/x-python",
   "name": "python",
   "nbconvert_exporter": "python",
   "pygments_lexer": "ipython3",
   "version": "3.9.13"
  },
  "section": "3"
 },
 "nbformat": 4,
 "nbformat_minor": 1
}
