{
 "cells": [
  {
   "cell_type": "code",
   "execution_count": 1,
   "id": "6cdb2fba",
   "metadata": {},
   "outputs": [],
   "source": [
    "import numpy as np"
   ]
  },
  {
   "cell_type": "markdown",
   "id": "fc894c9a",
   "metadata": {},
   "source": [
    "## Основні операції перетворень"
   ]
  },
  {
   "cell_type": "markdown",
   "id": "056cb0a9",
   "metadata": {},
   "source": [
    "### 1. Обертання"
   ]
  },
  {
   "cell_type": "code",
   "execution_count": 2,
   "id": "ca81b777",
   "metadata": {},
   "outputs": [],
   "source": [
    "def rotate(theta):\n",
    "    theta = theta * np.pi / 180\n",
    "    return np.array([\n",
    "        [np.cos(theta), -np.sin(theta), 0],\n",
    "        [np.sin(theta), np.cos(theta), 0],\n",
    "        [0, 0, 1]\n",
    "    ])"
   ]
  },
  {
   "cell_type": "markdown",
   "id": "e72f0ef6",
   "metadata": {},
   "source": [
    "### 2. Переміщення"
   ]
  },
  {
   "cell_type": "code",
   "execution_count": 3,
   "id": "816d916f",
   "metadata": {},
   "outputs": [],
   "source": [
    "def move(x, y):\n",
    "    return np.array([\n",
    "        [1, 0, x],\n",
    "        [0, 1, y],\n",
    "        [0, 0, 1]\n",
    "    ])"
   ]
  },
  {
   "cell_type": "markdown",
   "id": "a25aa9c7",
   "metadata": {},
   "source": [
    "### 3. Масштабування"
   ]
  },
  {
   "cell_type": "code",
   "execution_count": 4,
   "id": "5b15a711",
   "metadata": {},
   "outputs": [],
   "source": [
    "def scale(x, y):\n",
    "    return np.array([\n",
    "        [x, 0, 0],\n",
    "        [0, y, 0],\n",
    "        [0, 0, 1]\n",
    "    ])"
   ]
  },
  {
   "cell_type": "markdown",
   "id": "d62dcf68",
   "metadata": {},
   "source": [
    "### 4. Розрахунок матриці транформації"
   ]
  },
  {
   "cell_type": "code",
   "execution_count": 5,
   "id": "621eacc2",
   "metadata": {},
   "outputs": [],
   "source": [
    "def modelMatrix(args, sequence):\n",
    "    # V(x, y, 1)\n",
    "    V = np.array(args['V'] + (1,))\n",
    "    # calculate transformation matrix for each operation\n",
    "    Tr = {}\n",
    "    Tr['R'] = rotate( args['R'])\n",
    "    Tr['T'] = move  (*args['T']) # use `*`` to decompose a list into separate arguments\n",
    "    Tr['S'] = scale (*args['S'])\n",
    "    # calculate a transformation matrix for the `sequence`\n",
    "    T = np.identity(3)\n",
    "    for op in sequence:\n",
    "        T = T @ Tr[op]\n",
    "    # apply the transformation matrix to the input vector `V`\n",
    "    Vtr = T @ V\n",
    "    return Vtr"
   ]
  },
  {
   "cell_type": "markdown",
   "id": "1ee4b072",
   "metadata": {},
   "source": [
    "## Розрахунок (приклад з методички)"
   ]
  },
  {
   "cell_type": "code",
   "execution_count": 6,
   "id": "c9f92898",
   "metadata": {
    "scrolled": true
   },
   "outputs": [
    {
     "data": {
      "text/plain": [
       "array([-1.00243001,  5.33275241,  1.        ])"
      ]
     },
     "execution_count": 6,
     "metadata": {},
     "output_type": "execute_result"
    }
   ],
   "source": [
    "inMatrix = {\n",
    "    'R': 33,\n",
    "    'T': (1, 2),\n",
    "    'S': (2, 1.2),\n",
    "    'V': (1, 2),\n",
    "}\n",
    "modelMatrix(inMatrix, 'SRT')"
   ]
  },
  {
   "cell_type": "code",
   "execution_count": 7,
   "id": "185ab56c",
   "metadata": {},
   "outputs": [
    {
     "data": {
      "text/plain": [
       "array([0.85871227, 6.12068414, 1.        ])"
      ]
     },
     "execution_count": 7,
     "metadata": {},
     "output_type": "execute_result"
    }
   ],
   "source": [
    "inMatrix = {\n",
    "    'R': 16,\n",
    "    'T': (1, 2),\n",
    "    'S': (1, 2),\n",
    "    'V': (1, 2),\n",
    "}\n",
    "modelMatrix(inMatrix, 'TRS')"
   ]
  },
  {
   "cell_type": "markdown",
   "id": "73002a11",
   "metadata": {},
   "source": [
    "## Розрахунок (варіант 2)"
   ]
  },
  {
   "cell_type": "code",
   "execution_count": 8,
   "id": "38e27004",
   "metadata": {},
   "outputs": [
    {
     "data": {
      "text/plain": [
       "array([ 4.00701084, 10.98764316,  1.        ])"
      ]
     },
     "execution_count": 8,
     "metadata": {},
     "output_type": "execute_result"
    }
   ],
   "source": [
    "inMatrix = {\n",
    "    'R': 12.6,\n",
    "    'T': (2, 2),\n",
    "    'S': (1, 2.2),\n",
    "    'V': (3, 2),\n",
    "}\n",
    "modelMatrix(inMatrix, 'SRT')"
   ]
  },
  {
   "cell_type": "code",
   "execution_count": 9,
   "id": "c95f9d12",
   "metadata": {},
   "outputs": [
    {
     "data": {
      "text/plain": [
       "array([2.71488048, 5.24607877, 1.        ])"
      ]
     },
     "execution_count": 9,
     "metadata": {},
     "output_type": "execute_result"
    }
   ],
   "source": [
    "inMatrix = {\n",
    "    'R': 36.4,\n",
    "    'T': (1, 1),\n",
    "    'S': (1.3, 1.2),\n",
    "    'V': (3, 2),\n",
    "}\n",
    "modelMatrix(inMatrix, 'TRS')"
   ]
  },
  {
   "cell_type": "markdown",
   "id": "1d506584",
   "metadata": {},
   "source": [
    "## Розрахунок (варіант 3)"
   ]
  },
  {
   "cell_type": "code",
   "execution_count": 10,
   "id": "fc3e9d12",
   "metadata": {},
   "outputs": [
    {
     "data": {
      "text/plain": [
       "array([10.03819564, 16.0224903 ,  1.        ])"
      ]
     },
     "execution_count": 10,
     "metadata": {},
     "output_type": "execute_result"
    }
   ],
   "source": [
    "inMatrix = {\n",
    "    'R': 15,\n",
    "    'T': (2, 2),\n",
    "    'S': (1.5, 2.7),\n",
    "    'V': (6, 2),\n",
    "}\n",
    "modelMatrix(inMatrix, 'SRT')"
   ]
  },
  {
   "cell_type": "code",
   "execution_count": 11,
   "id": "bb84b0eb",
   "metadata": {},
   "outputs": [
    {
     "data": {
      "text/plain": [
       "array([ 1.80218819, 10.69052627,  1.        ])"
      ]
     },
     "execution_count": 11,
     "metadata": {},
     "output_type": "execute_result"
    }
   ],
   "source": [
    "inMatrix = {\n",
    "    'R': 51,\n",
    "    'T': (3, 2),\n",
    "    'S': (1, 3.2),\n",
    "    'V': (6, 2),\n",
    "}\n",
    "modelMatrix(inMatrix, 'TRS')"
   ]
  }
 ],
 "metadata": {
  "kernelspec": {
   "display_name": ".venv",
   "language": "python",
   "name": "python3"
  },
  "language_info": {
   "codemirror_mode": {
    "name": "ipython",
    "version": 3
   },
   "file_extension": ".py",
   "mimetype": "text/x-python",
   "name": "python",
   "nbconvert_exporter": "python",
   "pygments_lexer": "ipython3",
   "version": "3.9.13"
  },
  "vscode": {
   "interpreter": {
    "hash": "a1cb10cbaed503ade2ff165c8ae358b31149eb0f1478c2fe8e8fe11da5464054"
   }
  }
 },
 "nbformat": 4,
 "nbformat_minor": 5
}
