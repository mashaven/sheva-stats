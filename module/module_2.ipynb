{
 "cells": [
  {
   "cell_type": "markdown",
   "metadata": {},
   "source": [
    "# Модульна контрольна робота 2: Класифікація, Частина 2\n",
    "\n",
    "В даній роботі будемо продовжувати досліджувати та створювати класифікатор використовуючи метод k-nearest neighbors.\n",
    "\n",
    "Необхідно буде створити класифікатор, який визначає, до якого жанру відноситься та чи інша пісня, використовуючи лише кількість слів, які зустрічаються в тексті пісні. В проекті буде необхідно:\n",
    "\n",
    "1. Очистити і впорядкувати набір даних, який використовується для тестування моделі\n",
    "2. Побудувати класифікатор k-найближчих сусідів\n",
    "3. Перевірити класифікатор на даних\n",
    "\n",
    "Для самоконтролю використовуються тести автогрейдера (from gofer.ok import check), як і в поперідній работі. Якщо Ви їх ще не використовували, то для їх викоритання необхідно інсталювати два додаткових модуля (через CMD.exe Prompt в ANACONDA NAVIGATOR) а саме:\n",
    "\n",
    "- **okgrade** (pip install okgrade) https://okgrade.readthedocs.io/_/downloads/en/latest/pdf/\n",
    "- **gofer** (pip install git+https://github.com/grading/gradememaybe.git) https://okgrade.readthedocs.io/en/latest/install/\n",
    "\n",
    "Якщо Ви не бажаєти їх викоритовувати, то закоментуйте відповідний рядок і не використовуйте рядки тесту (наприклад check('tests/q2_1.py'), ...). В такому разі Ви можете переглянути наявні тести у відповідній директорії"
   ]
  },
  {
   "cell_type": "code",
   "execution_count": 1,
   "metadata": {
    "ExecuteTime": {
     "end_time": "2023-05-07T22:53:17.776634200Z",
     "start_time": "2023-05-07T22:53:15.632519700Z"
    }
   },
   "outputs": [],
   "source": [
    "# Run this cell to set up the notebook, but please don't change it.\n",
    "import numpy as np\n",
    "import math\n",
    "from datascience import *\n",
    "\n",
    "# These lines set up the plotting functionality and formatting.\n",
    "import matplotlib\n",
    "\n",
    "matplotlib.use('Agg')\n",
    "%matplotlib inline\n",
    "import matplotlib.pyplot as plots\n",
    "\n",
    "plots.style.use('fivethirtyeight')\n",
    "import warnings\n",
    "\n",
    "warnings.simplefilter(action=\"ignore\", category=FutureWarning)\n",
    "warnings.simplefilter('ignore', UserWarning)\n",
    "\n",
    "# These lines load the tests.\n",
    "from gofer.ok import check"
   ]
  },
  {
   "cell_type": "markdown",
   "metadata": {},
   "source": [
    "## Попередній огляд\n",
    "\n",
    "У практичній роботі 5.5 ми виконали такі завдання:\n",
    "1. У розділі 1 ми досліджували набір даних і розділили його на навчальні та тестові вибірки.\n",
    "2. У розділі 2 ми розглянули приклад алгоритму класифікації k-Nearest Neightbors (k-NN).\n",
    "\n",
    "**Якщо Ви недоробили практичну роботу 5.5 - поверніться та перегляньте її зараз. Це допоможе Вам у цій роботі. **\n",
    "\n",
    "У цій роботі ми плануємо виконати такі завдання:\n",
    "1. Визначите деякі ознаки.\n",
    "2. Визначите функцію класифікатора, використовуючи обрані ознаки та навчальну вибірку.\n",
    "3. Оцінемо ефективність класифікатора (відсоток правильних класифікацій) на тестовій вибірці."
   ]
  },
  {
   "cell_type": "markdown",
   "metadata": {},
   "source": [
    "Запустіть комірку нижче, щоб налаштувати проект."
   ]
  },
  {
   "cell_type": "code",
   "execution_count": 2,
   "metadata": {
    "ExecuteTime": {
     "end_time": "2023-05-07T22:53:26.099066100Z",
     "start_time": "2023-05-07T22:53:17.781620100Z"
    }
   },
   "outputs": [],
   "source": [
    "lyrics = Table.read_table('lyrics.csv')\n",
    "\n",
    "training_proportion = 11 / 16\n",
    "\n",
    "num_songs = lyrics.num_rows\n",
    "num_train = int(num_songs * training_proportion)\n",
    "num_valid = num_songs - num_train\n",
    "\n",
    "train_lyrics = lyrics.take(np.arange(num_train))\n",
    "test_lyrics = lyrics.take(np.arange(num_train, num_songs))\n",
    "\n",
    "\n",
    "def most_common(label, table):\n",
    "    return table.group(label).sort('count', descending=True).column(label).item(0)"
   ]
  },
  {
   "cell_type": "markdown",
   "metadata": {},
   "source": [
    "## 1. Ознаки"
   ]
  },
  {
   "cell_type": "markdown",
   "metadata": {},
   "source": [
    "Тепер ми збираємося розширити наш класифікатор із практичної роботи 5.5, щоб використовувати більше двох ознак одночасно.\n",
    "\n",
    "Евклідова відстань все ще має сенс з більш ніж двома ознаками. Для `n` різних ознак ми обчислюємо різницю між відповідними значеннями ознак для двох пісень, потім підводимо кожну з `n` різниць у квадрат, підсумовуємо отримані числа та беремо квадратний корінь із суми."
   ]
  },
  {
   "cell_type": "markdown",
   "metadata": {},
   "source": [
    "** <b>Завдання 1.1</b> ** <br/>\n",
    "\n",
    "Напишіть функцію для обчислення евклідової відстані між двома **масивами (arrays)** ознак *довільної* (але однакової) довжини. Використуємо її, щоб обчислити відстань між першою піснею в навчальній вибірці та першою піснею в тестовому наборі, *використовуючи всі ознаки*. (Пам’ятайте, що `Title`, `Artist` та `Genre` пісень не являються ознаками.)\n",
    "\n",
    "**Примітка.** Щоб перетворити рядкові об’єкти (row в таблиці створеної в datascience) на масиви (arrays), використовуйте `np.array`. Наприклад, якщо \"t\" була таблицею, \"np.array(t.row(0))\" перетворює 0 рядок \"t\" на масив."
   ]
  },
  {
   "cell_type": "code",
   "execution_count": 3,
   "metadata": {
    "ExecuteTime": {
     "end_time": "2023-05-07T22:53:28.053789400Z",
     "start_time": "2023-05-07T22:53:26.103057500Z"
    }
   },
   "outputs": [
    {
     "data": {
      "text/plain": "0.1482277008140451"
     },
     "execution_count": 3,
     "metadata": {},
     "output_type": "execute_result"
    }
   ],
   "source": [
    "def distance(features1, features2):\n",
    "    \"\"\"The Euclidean distance between two arrays of feature values.\"\"\"\n",
    "    return np.sqrt(np.sum(np.square(np.array(features1) - np.array(features2))))\n",
    "\n",
    "\n",
    "distance_first_to_first = distance(test_lyrics.drop(0, 1, 2).row(0), train_lyrics.drop(0, 1, 2).row(0))\n",
    "distance_first_to_first"
   ]
  },
  {
   "cell_type": "code",
   "execution_count": 4,
   "metadata": {
    "ExecuteTime": {
     "end_time": "2023-05-07T22:53:28.139102500Z",
     "start_time": "2023-05-07T22:53:28.054783400Z"
    }
   },
   "outputs": [
    {
     "data": {
      "text/plain": "<gofer.ok.OKTestsResult at 0x263df705760>",
      "text/html": "\n    \n    \n        <p>All tests passed!</p>\n    \n    "
     },
     "execution_count": 4,
     "metadata": {},
     "output_type": "execute_result"
    }
   ],
   "source": [
    "check(\"tests/q1_1.py\")"
   ]
  },
  {
   "cell_type": "markdown",
   "metadata": {},
   "source": [
    "### 1.1. Створення власного набору ознак\n",
    "\n",
    "Однак, використання всіх ознак має деякі недоліки, ми їх обговорювали на лекції. Одним з явних недоліків є *обчислювальна вартість* — обчислення евклідових відстаней займає багато часу, якщо у нас є багато ознак. Ви могли помітити це в попередньому завданні! Крім того, не всі ознаки є інформативними, отже їх кількість варто зменшити.\n",
    "\n",
    "Тож ми виберемо лише 20. Хотілося б обрати ознаки, які є дуже *дискримінативними*. Тобто ознаки, які дозволяють нам правильно класифікувати якомога більшу частину тестової вибірки. Цей процес вибору ознак, які забезпечать ефективну роботу класифікатора, іноді називають *вибором ознак* або ширше *конструюванням ознак* (https://en.wikipedia.org/wiki/Feature_engineering)."
   ]
  },
  {
   "cell_type": "markdown",
   "metadata": {},
   "source": [
    "** <b>Завдання 1.1.1</b> ** <br/>\n",
    "\n",
    "\n",
    "Перегляньте список ознак (атрибути таблиці `lyrics` окрім перших трьох). Виберіть 20 загальних слів, які, на вашу думку, допоможуть розрізнити пісні country та hip-hop. Обов’язково вибирайте слова, які вживаються достатньо часто, щоб кожна пісня містила принаймні одне з них. Але не обирайте лише 20 найчастіших... ви можете зробити набагато краще.\n",
    "\n",
    "Можливо, Ви захочете повернутися до цього питання пізніше, щоб покращити свій набір ознак, коли Ви побачите, як оцінити свій класифікатор. Коли Ви вперше відповідаєте на це завданняя, приділіть деякий час перегляду ознак, але не більше 15 хвилин.\n",
    "\n",
    "Наприклад, для свого набору ознак було обрано наступні ['love','like','ego','brick','creep','block','gun','gave','scream','in','will','we','with','what','out','from','let','back','was','got']. Це наведено для прикладу, але Ви створіть власний набір."
   ]
  },
  {
   "cell_type": "code",
   "execution_count": 5,
   "metadata": {
    "ExecuteTime": {
     "end_time": "2023-05-07T22:53:28.215889100Z",
     "start_time": "2023-05-07T22:53:28.086262500Z"
    }
   },
   "outputs": [
    {
     "name": "stdout",
     "output_type": "stream",
     "text": [
      "Selected words: ['i' 'the' 'you' 'and' 'a' 'to' 'it' 'not' 'me' 'my' 'in' 'is' 'that' 'of'\n",
      " 'on' 'do' 'your' 'am' 'all' 'we']\n"
     ]
    }
   ],
   "source": [
    "# Set my_20_features to an array of 20 features (strings that are column labels)\n",
    "n_distinctive_features = 20\n",
    "\n",
    "features_frequences = Table().with_columns(\n",
    "    'Feature', lyrics.labels[3:],\n",
    "    'Frequence', np.asarray(lyrics.columns[3:]).mean(axis=1)\n",
    ")\n",
    "\n",
    "my_20_features = features_frequences \\\n",
    "    .sort('Frequence', descending=True) \\\n",
    "    .column('Feature') \\\n",
    "    .take(range(n_distinctive_features))\n",
    "\n",
    "print('Selected words:', my_20_features)\n",
    "\n",
    "train_20 = train_lyrics.select(my_20_features)\n",
    "test_20 = test_lyrics.select(my_20_features)"
   ]
  },
  {
   "cell_type": "markdown",
   "metadata": {},
   "source": [
    "Тест нижче перевіряє для гарантії, що Ви вибрали слова так, щоб принаймні одне з’явилося в кожній пісні. Якщо ви не можете знайти слова, які задовольняють цей тест лише завдяки інтуїції, спробуйте написати код, щоб роздрукувати назви пісень, які не містять жодного слова з вашого списку, а потім подивіться на слова, які вони містять."
   ]
  },
  {
   "cell_type": "code",
   "execution_count": 6,
   "metadata": {
    "ExecuteTime": {
     "end_time": "2023-05-07T22:53:28.267758300Z",
     "start_time": "2023-05-07T22:53:28.176995Z"
    }
   },
   "outputs": [
    {
     "data": {
      "text/plain": "<gofer.ok.OKTestsResult at 0x263df7a8c40>",
      "text/html": "\n    \n    \n        <p>All tests passed!</p>\n    \n    "
     },
     "execution_count": 6,
     "metadata": {},
     "output_type": "execute_result"
    }
   ],
   "source": [
    "check(\"tests/q1_1_1.py\")"
   ]
  },
  {
   "cell_type": "markdown",
   "metadata": {},
   "source": [
    "Далі давайте спробуємо класифікувати першу пісню з нашого тестового набору за допомогою обраних ознак. Ви можете переглянути пісню, запустивши комірку нижче. Як Ви думаєте, чи правильно буде її класифіковано?"
   ]
  },
  {
   "cell_type": "code",
   "execution_count": 7,
   "metadata": {
    "ExecuteTime": {
     "end_time": "2023-05-07T22:53:28.327626900Z",
     "start_time": "2023-05-07T22:53:28.294680700Z"
    }
   },
   "outputs": [
    {
     "name": "stdout",
     "output_type": "stream",
     "text": [
      "Song:\n"
     ]
    },
    {
     "data": {
      "text/plain": "<IPython.core.display.HTML object>",
      "text/html": "<table border=\"1\" class=\"dataframe\">\n    <thead>\n        <tr>\n            <th>Title</th> <th>Artist</th> <th>Genre</th>\n        </tr>\n    </thead>\n    <tbody>\n        <tr>\n            <td>That Kind of Love</td> <td>Alison Krauss</td> <td>Country</td>\n        </tr>\n    </tbody>\n</table>"
     },
     "metadata": {},
     "output_type": "display_data"
    },
    {
     "name": "stdout",
     "output_type": "stream",
     "text": [
      "Features:\n"
     ]
    },
    {
     "data": {
      "text/plain": "<IPython.core.display.HTML object>",
      "text/html": "<table border=\"1\" class=\"dataframe\">\n    <thead>\n        <tr>\n            <th>i</th> <th>the</th> <th>you</th> <th>and</th> <th>a</th> <th>to</th> <th>it</th> <th>not</th> <th>me</th> <th>my</th> <th>in</th> <th>is</th> <th>that</th> <th>of</th> <th>on</th> <th>do</th> <th>your</th> <th>am</th> <th>all</th> <th>we</th>\n        </tr>\n    </thead>\n    <tbody>\n        <tr>\n            <td>0.010582</td> <td>0.037037</td> <td>0.005291</td> <td>0.015873</td> <td>0.015873</td> <td>0.010582</td> <td>0.037037</td> <td>0.026455</td> <td>0.005291</td> <td>0.015873</td> <td>0.005291</td> <td>0.031746</td> <td>0.026455</td> <td>0.026455</td> <td>0.010582</td> <td>0.005291</td> <td>0   </td> <td>0   </td> <td>0   </td> <td>0.042328</td>\n        </tr>\n    </tbody>\n</table>"
     },
     "metadata": {},
     "output_type": "display_data"
    }
   ],
   "source": [
    "print(\"Song:\")\n",
    "test_lyrics.take(0).select('Title', 'Artist', 'Genre').show()\n",
    "print(\"Features:\")\n",
    "test_20.take(0).show()"
   ]
  },
  {
   "cell_type": "markdown",
   "metadata": {},
   "source": [
    "Як і раніше, ми хочемо знайти пісні в навчальній вибірці, які найбільше схожі на нашу тестову пісню. Ми обчислимо евклідові відстані від тестової пісні (використовуючи 20 обраних ознак) до всіх пісень в навчальній вибірці. Ви можете зробити це за допомогою циклу `for`, але щоб пришвидшити обчислення, Вам надається функція `fast_distances`, яка зробить це за Вас. Прочитайте її документацію, щоб переконатися, що Ви розумієте, що він робить. (Вам не потрібно читати код у тілі функції, якщо Ви цього не хочете.)"
   ]
  },
  {
   "cell_type": "code",
   "execution_count": 8,
   "metadata": {
    "ExecuteTime": {
     "end_time": "2023-05-07T22:53:28.342581400Z",
     "start_time": "2023-05-07T22:53:28.323629100Z"
    }
   },
   "outputs": [],
   "source": [
    "# Just run this cell to define fast_distances.\n",
    "\n",
    "def fast_distances(test_row, train_rows):\n",
    "    \"\"\"An array of the distances between test_row and each row in train_rows.\n",
    "\n",
    "    Takes 2 arguments:\n",
    "      test_row: A row of a table containing features of one\n",
    "        test song (e.g., test_20.row(0)).\n",
    "      train_rows: A table of features (for example, the whole\n",
    "        table train_20).\"\"\"\n",
    "    assert train_rows.num_columns < 50, \"Make sure you're not using all the features of the lyrics table.\"\n",
    "\n",
    "    counts_matrix = np.asarray(train_rows.rows)\n",
    "    distances = np.sqrt(np.sum(np.square(np.asarray(test_row) - counts_matrix), axis=1))\n",
    "\n",
    "    return distances"
   ]
  },
  {
   "cell_type": "markdown",
   "metadata": {},
   "source": [
    "** <b>Завдання 1.1.2</b> ** <br/>\n",
    "\n",
    "Скористайтеся наданою вище функцією `fast_distances`, щоб обчислити відстань від першої пісні в тестовому наборі до всіх пісень в навчальній вибірці, **використовуючи ваш набір із 20 ознак**. Створіть нову таблицю під назвою `genre_and_distances` з одним рядком для кожної пісні в навчальній вибірці та двома стовпцями:\n",
    "* `\"Genre\"` навчальної пісні (взяти з train_lyrics колонку `\"Genre\"`)\n",
    "* `\"Distance\"` від першої пісні в тестовій вибірці (використати функцію `fast_distances`)\n",
    "\n",
    "Переконайтеся, що `genre_and_distances` **відсортовано в порядку зростання за відстанню до першої тестової пісні**. (підказка - `Table().with_columns(\"Genre\", ..., \"Distance\", ...).sort(\"Distance\")`)"
   ]
  },
  {
   "cell_type": "code",
   "execution_count": 9,
   "metadata": {
    "for_assignment_type": "student",
    "ExecuteTime": {
     "end_time": "2023-05-07T22:53:28.531858600Z",
     "start_time": "2023-05-07T22:53:28.334604400Z"
    }
   },
   "outputs": [
    {
     "data": {
      "text/plain": "Genre   | Distance\nCountry | 0.0489616\nHip-hop | 0.0490157\nHip-hop | 0.0517087\nHip-hop | 0.0523167\nCountry | 0.0526236\nHip-hop | 0.0533627\nHip-hop | 0.0551075\nHip-hop | 0.0558699\nCountry | 0.056612\nHip-hop | 0.0566244\n... (1173 rows omitted)",
      "text/html": "<table border=\"1\" class=\"dataframe\">\n    <thead>\n        <tr>\n            <th>Genre</th> <th>Distance</th>\n        </tr>\n    </thead>\n    <tbody>\n        <tr>\n            <td>Country</td> <td>0.0489616</td>\n        </tr>\n        <tr>\n            <td>Hip-hop</td> <td>0.0490157</td>\n        </tr>\n        <tr>\n            <td>Hip-hop</td> <td>0.0517087</td>\n        </tr>\n        <tr>\n            <td>Hip-hop</td> <td>0.0523167</td>\n        </tr>\n        <tr>\n            <td>Country</td> <td>0.0526236</td>\n        </tr>\n        <tr>\n            <td>Hip-hop</td> <td>0.0533627</td>\n        </tr>\n        <tr>\n            <td>Hip-hop</td> <td>0.0551075</td>\n        </tr>\n        <tr>\n            <td>Hip-hop</td> <td>0.0558699</td>\n        </tr>\n        <tr>\n            <td>Country</td> <td>0.056612 </td>\n        </tr>\n        <tr>\n            <td>Hip-hop</td> <td>0.0566244</td>\n        </tr>\n    </tbody>\n</table>\n<p>... (1173 rows omitted)</p>"
     },
     "execution_count": 9,
     "metadata": {},
     "output_type": "execute_result"
    }
   ],
   "source": [
    "# The staff solution took about 4 lines of code, but it's not obviously.\n",
    "genre_and_distances = Table().with_columns(\n",
    "    'Genre', train_lyrics.column('Genre'),\n",
    "    'Distance', fast_distances(test_20.row(0), train_20)\n",
    ").sort('Distance')\n",
    "genre_and_distances"
   ]
  },
  {
   "cell_type": "code",
   "execution_count": 10,
   "metadata": {
    "ExecuteTime": {
     "end_time": "2023-05-07T22:53:28.546825700Z",
     "start_time": "2023-05-07T22:53:28.381319Z"
    }
   },
   "outputs": [
    {
     "data": {
      "text/plain": "<gofer.ok.OKTestsResult at 0x263e09ea730>",
      "text/html": "\n    \n    \n        <p>All tests passed!</p>\n    \n    "
     },
     "execution_count": 10,
     "metadata": {},
     "output_type": "execute_result"
    }
   ],
   "source": [
    "check(\"tests/q1_1_2.py\")"
   ]
  },
  {
   "cell_type": "markdown",
   "metadata": {},
   "source": [
    "** <b>Завдання 1.1.3</b> ** <br/>\n",
    "\n",
    "Тепер проведіть класифікацію за 5 найближчими сусідами першої пісні в тестовому наборі. Тобто визначте її жанр, знайшовши найпоширеніший жанр серед 5 його найближчих сусідів відповідно до обчислених відстаней. Потім перевірте, чи Ваш класифікатор вибрав правильний жанр. (Залежно від обраних ознак, класифікатор може і неправильно класифікувати цю пісню, і це нормально.)\n",
    "\n",
    "**Підказка** - для визначання жанру скористайтеся отриманою таблицею `genre_and_distances`. Візьміть 5 перших рядків (адже таблиця відсортована - `.take(range(5))`. Згрупуйте за жанром - `.group(\"Genre\")`. Відсортуйте за зростянням - `.sort(\"count\", descending = True)`. Витягніть колонку `\"Genre\"` - `.column(\"Genre\")` та отримайте перший запис з колонки з назвою жанра - `.item(0)`.\n",
    "\n",
    "Для визначення змінної my_assigned_genre_was_correct необхідно присвоїти їй результат порівняння отриманого спрогнозованого жанру - `my_assigned_genre` та жанру який реально визнчений у таблиці `test_lyrics` для цієї пісні - `test_lyrics.take(0).column(\"Genre\").item(0)`."
   ]
  },
  {
   "cell_type": "code",
   "execution_count": 11,
   "metadata": {
    "ExecuteTime": {
     "end_time": "2023-05-07T22:53:28.610616400Z",
     "start_time": "2023-05-07T22:53:28.443153300Z"
    }
   },
   "outputs": [
    {
     "name": "stdout",
     "output_type": "stream",
     "text": [
      "The assigned genre, Hip-hop, was not correct.\n"
     ]
    }
   ],
   "source": [
    "# Set my_assigned_genre to the most common genre among these.\n",
    "n_knn = 5\n",
    "my_assigned_genre = genre_and_distances\\\n",
    "    .take(range(n_knn))\\\n",
    "    .group('Genre')\\\n",
    "    .sort('count', descending=True)\\\n",
    "    .column('Genre')\\\n",
    "    .item(0)\n",
    "\n",
    "# Set my_assigned_genre_was_correct to True if my_assigned_genre\n",
    "# matches the actual genre of the first song in the test set.\n",
    "my_assigned_genre_was_correct = my_assigned_genre == test_lyrics.column('Genre').item(0)\n",
    "\n",
    "print(f\"The assigned genre, {my_assigned_genre}, was{' ' if my_assigned_genre_was_correct else ' not '}correct.\")"
   ]
  },
  {
   "cell_type": "code",
   "execution_count": 12,
   "metadata": {
    "ExecuteTime": {
     "end_time": "2023-05-07T22:53:28.614605400Z",
     "start_time": "2023-05-07T22:53:28.460023400Z"
    }
   },
   "outputs": [
    {
     "data": {
      "text/plain": "<gofer.ok.OKTestsResult at 0x263e09ea850>",
      "text/html": "\n    \n    \n        <p>All tests passed!</p>\n    \n    "
     },
     "execution_count": 12,
     "metadata": {},
     "output_type": "execute_result"
    }
   ],
   "source": [
    "check(\"tests/q1_1_3.py\")"
   ]
  },
  {
   "cell_type": "markdown",
   "metadata": {},
   "source": [
    "### 1.2. Функція класифікатора\n",
    "\n",
    "Тепер ми можемо написати одну функцію, яка інкапсулює весь процес класифікації."
   ]
  },
  {
   "cell_type": "markdown",
   "metadata": {},
   "source": [
    "** <b>Завдання 1.2.1</b> ** <br/>\n",
    "\n",
    "Напишіть функцію під назвою `classify`. Вона має прийняти такі чотири аргументи:\n",
    "* Рядок ознак для класифікації пісні (наприклад, `test_20.row(0)`) - фактично *невідому* пісню.\n",
    "* Таблиця тренувальної вибірки зі стовпцями значень для кожної з обраних ознак (наприклад, `train_20`).\n",
    "* Масив класів (міститься в колонці `\"Genre\"`), який містить стільки елементів, скільки рядків у попередній таблиці, і в тому самому порядку.\n",
    "* `k`, кількість сусідів для використання в класифікації.\n",
    "\n",
    "Функція має повертати клас, який прогнозує класифікатор `k`- nearest neighbor для заданого рядку ознак (рядок `'Country'` або рядок `'Hip-hop'`).\n",
    "\n",
    "**Підказка** - фактично запишіть вище пророблені кроки у функцію. Спочатку створіть таблицю як і раніше `genre_and_distances` а потім спрогнозуйте жанр як для змінної `my_assigned_genre` в завданні 1.1.3"
   ]
  },
  {
   "cell_type": "code",
   "execution_count": 13,
   "metadata": {
    "ExecuteTime": {
     "end_time": "2023-05-07T22:53:28.641532600Z",
     "start_time": "2023-05-07T22:53:28.475976Z"
    }
   },
   "outputs": [],
   "source": [
    "def classify(test_row, train_rows, train_classes, k):\n",
    "    \"\"\"Return the most common class among k nearest neigbors to test_row.\"\"\"\n",
    "    distances = fast_distances(test_row, train_rows)\n",
    "    genre_and_distances = Table().with_columns(\n",
    "        'Genre', train_classes,\n",
    "        'Distance', distances\n",
    "    )\n",
    "    most_common_class = genre_and_distances\\\n",
    "        .sort('Distance')\\\n",
    "        .take(range(k))\\\n",
    "        .group('Genre')\\\n",
    "        .sort('count', descending=True)\\\n",
    "        .column('Genre')\\\n",
    "        .item(0)\n",
    "    return most_common_class"
   ]
  },
  {
   "cell_type": "code",
   "execution_count": 14,
   "metadata": {
    "ExecuteTime": {
     "end_time": "2023-05-07T22:53:29.568342100Z",
     "start_time": "2023-05-07T22:53:28.493930Z"
    }
   },
   "outputs": [
    {
     "data": {
      "text/plain": "<gofer.ok.OKTestsResult at 0x263e09ee520>",
      "text/html": "\n    \n    \n        <p>All tests passed!</p>\n    \n    "
     },
     "execution_count": 14,
     "metadata": {},
     "output_type": "execute_result"
    }
   ],
   "source": [
    "check(\"tests/q1_2_1.py\")"
   ]
  },
  {
   "cell_type": "markdown",
   "metadata": {},
   "source": [
    "** <b>Завдання 1.2.2</b> ** <br/>\n",
    "\n",
    "Призначте змінній `grandpa_genre` жанр, передбачений вашим класифікатором для пісні \"Grandpa Got Runned Over By A John Deere\" у тестовому наборі, використовуючи **9 сусідів** і використовуючи ваші 20 ознак."
   ]
  },
  {
   "cell_type": "code",
   "execution_count": 15,
   "metadata": {
    "ExecuteTime": {
     "end_time": "2023-05-07T22:53:29.663373500Z",
     "start_time": "2023-05-07T22:53:29.574325700Z"
    }
   },
   "outputs": [
    {
     "data": {
      "text/plain": "'Hip-hop'"
     },
     "execution_count": 15,
     "metadata": {},
     "output_type": "execute_result"
    }
   ],
   "source": [
    "# The staff solution first defined a row object called grandpa_features.\n",
    "grandpa_features = test_lyrics\\\n",
    "    .where('Title', 'Grandpa Got Runned Over By A John Deere')\\\n",
    "    .select(my_20_features)\\\n",
    "    .row(0)\n",
    "grandpa_genre = classify(grandpa_features, train_20, train_lyrics['Genre'], k=9)\n",
    "grandpa_genre"
   ]
  },
  {
   "cell_type": "code",
   "execution_count": 16,
   "metadata": {
    "ExecuteTime": {
     "end_time": "2023-05-07T22:53:29.737827900Z",
     "start_time": "2023-05-07T22:53:29.667364600Z"
    }
   },
   "outputs": [
    {
     "data": {
      "text/plain": "<gofer.ok.OKTestsResult at 0x263e09cd520>",
      "text/html": "\n    \n    \n        <p>All tests passed!</p>\n    \n    "
     },
     "execution_count": 16,
     "metadata": {},
     "output_type": "execute_result"
    }
   ],
   "source": [
    "check(\"tests/q1_2_2.py\")"
   ]
  },
  {
   "cell_type": "markdown",
   "metadata": {},
   "source": [
    "Нарешті, коли ми оцінюємо наш класифікатор, буде корисно мати функцію класифікації, яка спеціалізується на використанні фіксованого навчальної вибірки та фіксованого значення `k`."
   ]
  },
  {
   "cell_type": "markdown",
   "metadata": {},
   "source": [
    "** <b>Завдання 1.2.3</b> ** <br/>\n",
    "\n",
    "Створіть функцію класифікації, яка приймає як аргумент row - рядок, що містить ваші 20 ознак, і класифікує цей рядок за допомогою алгоритму 5 найближчих сусідів із `train_20` в якості навчальної вибірки та `train_classes` з визнвченими класами. Тобто фактично напишіть функцію яка буде викликати класифікатор для будь якої пісні (row), а не як в попередньому завданні для чітко визнвченої пісні."
   ]
  },
  {
   "cell_type": "code",
   "execution_count": 17,
   "metadata": {
    "ExecuteTime": {
     "end_time": "2023-05-07T22:53:29.753787300Z",
     "start_time": "2023-05-07T22:53:29.724862Z"
    }
   },
   "outputs": [
    {
     "data": {
      "text/plain": "'Hip-hop'"
     },
     "execution_count": 17,
     "metadata": {},
     "output_type": "execute_result"
    }
   ],
   "source": [
    "def classify_one_argument(row):\n",
    "    return classify(row, train_20, train_lyrics['Genre'], k=5)\n",
    "\n",
    "\n",
    "# When you're done, this should produce 'Hip-hop' or 'Country'.\n",
    "classify_one_argument(test_20.row(0))"
   ]
  },
  {
   "cell_type": "code",
   "execution_count": 18,
   "metadata": {
    "ExecuteTime": {
     "end_time": "2023-05-07T22:53:30.208940200Z",
     "start_time": "2023-05-07T22:53:29.746810100Z"
    }
   },
   "outputs": [
    {
     "data": {
      "text/plain": "<gofer.ok.OKTestsResult at 0x263df70e6a0>",
      "text/html": "\n    \n    \n        <p>All tests passed!</p>\n    \n    "
     },
     "execution_count": 18,
     "metadata": {},
     "output_type": "execute_result"
    }
   ],
   "source": [
    "check(\"tests/q1_2_3.py\")"
   ]
  },
  {
   "cell_type": "markdown",
   "metadata": {},
   "source": [
    "### 1.3. Оцінка класифікатора"
   ]
  },
  {
   "cell_type": "markdown",
   "metadata": {},
   "source": [
    "Тепер, коли користуватися класифікатором стало легко, давайте перевіримо, наскільки він точний для всієї тестової вибірки.\n",
    "\n",
    "** <b>Завдання 1.3.1</b> ** <br/> \n",
    "\n",
    "Використовуйте `classify_one_argument` і `apply`, щоб класифікувати кожну пісню в тестовому наборі. Назвіть ці припущення `test_guesses`. **Тоді** обчисліть частку правильних класифікацій. (`test_lyrics.select(...).apply(classify_one_argument)`) - додайте масив визначених Вами ознак. Для визначеня ж частки вірних класифікацій просто порявняйте спрогнозовані значення класів і реальні з тестової таблиці (`np.average(test_lyrics.column(\"Genre\")`)."
   ]
  },
  {
   "cell_type": "code",
   "execution_count": 19,
   "metadata": {
    "ExecuteTime": {
     "end_time": "2023-05-07T22:53:40.452346400Z",
     "start_time": "2023-05-07T22:53:30.213907500Z"
    }
   },
   "outputs": [
    {
     "data": {
      "text/plain": "0.64498141263940523"
     },
     "execution_count": 19,
     "metadata": {},
     "output_type": "execute_result"
    }
   ],
   "source": [
    "test_guesses = test_lyrics.select(my_20_features).apply(classify_one_argument)\n",
    "proportion_correct = np.sum(test_lyrics['Genre'] == test_guesses) / num_valid\n",
    "proportion_correct"
   ]
  },
  {
   "cell_type": "code",
   "execution_count": 20,
   "metadata": {
    "ExecuteTime": {
     "end_time": "2023-05-07T22:53:40.526147Z",
     "start_time": "2023-05-07T22:53:40.456336800Z"
    }
   },
   "outputs": [
    {
     "data": {
      "text/plain": "<gofer.ok.OKTestsResult at 0x263e09ea4f0>",
      "text/html": "\n    \n    \n        <p>All tests passed!</p>\n    \n    "
     },
     "execution_count": 20,
     "metadata": {},
     "output_type": "execute_result"
    }
   ],
   "source": [
    "check(\"tests/q1_3_1.py\")"
   ]
  },
  {
   "cell_type": "markdown",
   "metadata": {},
   "source": [
    "На даний момент Ви пройшли один повний цикл розробки класифікатора. Давайте підсумуємо кроки:\n",
    "1. З доступних даних оберіть тестові та навчальні вибірки.\n",
    "2. Виберіть алгоритм, який ви збираєтеся використовувати для класифікації.\n",
    "3. Визначте деякі ознаки.\n",
    "4. Визначте функцію класифікатора, використовуючи ваші ознаки та навчальну вибірку.\n",
    "5. Оцініть його результативність (частку правильних класифікацій) на тестовій вибірці.\n",
    "\n",
    "Отже ми розглянули приклад для визначення жанру пісні - загальний приклад. Якщо Вам зрозумілі всі кроки варто застосувати отримані знання і навички для інших даних. Спробуйте адаптувати свій класифікатор для геологічних задач - наприклад для класифікації аномалій - magn_inv.csv, або для інших даних. Це буде максимально корисно для Вас. І хоча це необов'язково для отримання позитивної оцінки спробуйте отримати власний досвід!"
   ]
  },
  {
   "cell_type": "markdown",
   "source": [
    "## MAGN_INV"
   ],
   "metadata": {
    "collapsed": false
   }
  },
  {
   "cell_type": "markdown",
   "source": [
    "Read data from the `magn_ing.csv` file and split the dataset it into train and test sets"
   ],
   "metadata": {
    "collapsed": false
   }
  },
  {
   "cell_type": "code",
   "execution_count": 21,
   "outputs": [],
   "source": [
    "dataset = Table.read_table('magn_inv.csv')\n",
    "\n",
    "training_proportion = 11 / 16\n",
    "\n",
    "n_total = dataset.num_rows\n",
    "n_train = int(n_total * training_proportion)\n",
    "n_test = n_total - n_train\n",
    "\n",
    "train_set = dataset.take(np.arange(n_train))\n",
    "test_set = dataset.take(np.arange(n_train, n_total))"
   ],
   "metadata": {
    "collapsed": false,
    "ExecuteTime": {
     "end_time": "2023-05-07T22:53:40.537129500Z",
     "start_time": "2023-05-07T22:53:40.474288700Z"
    }
   }
  },
  {
   "cell_type": "markdown",
   "source": [
    "Use `classify` function from the previous task to apply classification on the dataset and find the best combination of features to separate anomalies from normal data"
   ],
   "metadata": {
    "collapsed": false
   }
  },
  {
   "cell_type": "code",
   "execution_count": 22,
   "outputs": [
    {
     "name": "stdout",
     "output_type": "stream",
     "text": [
      "Available features: ('Size', 'T', 'Grad')\n",
      "1. 57.60% - ('Size', 'T')\n",
      "2. 92.80% - ('Size', 'Grad')\n",
      "3. 55.20% - ('T', 'Grad')\n"
     ]
    }
   ],
   "source": [
    "print(f\"Available features: {dataset.labels[:-1]}\")\n",
    "\n",
    "test_res = test_set\\\n",
    "    .select(0, 1)\\\n",
    "    .apply(lambda row: classify(row, train_set.select(0, 1), train_set['Class'], k=2))\n",
    "accuracy = np.sum(test_res == test_set['Class']) / n_test * 100\n",
    "print(f\"1. {accuracy:.2f}% - {dataset.select(0, 1).labels}\")\n",
    "\n",
    "test_res = test_set\\\n",
    "    .select(0, 2)\\\n",
    "    .apply(lambda row: classify(row, train_set.select(0, 2), train_set['Class'], k=2))\n",
    "accuracy = np.sum(test_res == test_set['Class']) / n_test * 100\n",
    "print(f\"2. {accuracy:.2f}% - {dataset.select(0, 2).labels}\")\n",
    "\n",
    "test_res = test_set\\\n",
    "    .select(1, 2)\\\n",
    "    .apply(lambda row: classify(row, train_set.select(1, 2), train_set['Class'], k=2))\n",
    "accuracy = np.sum(test_res == test_set['Class']) / n_test * 100\n",
    "print(f\"3. {accuracy:.2f}% - {dataset.select(1, 2).labels}\")"
   ],
   "metadata": {
    "collapsed": false,
    "ExecuteTime": {
     "end_time": "2023-05-07T22:53:41.518767100Z",
     "start_time": "2023-05-07T22:53:40.502221600Z"
    }
   }
  },
  {
   "cell_type": "markdown",
   "metadata": {},
   "source": [
    "## Контроль"
   ]
  },
  {
   "cell_type": "markdown",
   "metadata": {},
   "source": [
    "Ви закінчили з даною роботою! Аби перевірити, що всі завдання виконані вірно, виконайте наступні дії...\n",
    "- **ВАЖЛИВО** Перш ніж щось робити, виберіть, **Save and Checkpoint** з меню `File`. Будь ласка, зробіть це спочатку, перш ніж запускати клітинку нижче,\n",
    "- **запустіть усі тести та перевірте, чи всі вони пройшли успішно** (у наступній клітинці є перевірка для цього), \n",
    "- **Перегляньте notebook востаннє, перевірятися буде остаточний стан вашого notebook. Якщо ви вносили будь-які зміни, збережіть і запустіть всі рядки ще раз** Якщо ви вносили будь-які зміни, запустіть поллідовно всі рядки ще раз і збережіть **Save and Checkpoint** повторно."
   ]
  },
  {
   "cell_type": "code",
   "execution_count": null,
   "metadata": {
    "scrolled": false
   },
   "outputs": [],
   "source": [
    "# For your convenience, you can run this cell to run all the tests at once!\n",
    "import glob\n",
    "from gofer.ok import grade_notebook\n",
    "\n",
    "if not globals().get('__GOFER_GRADER__', False):\n",
    "    display(grade_notebook('module_2.ipynb', sorted(glob.glob('tests/q*.py'))))"
   ]
  }
 ],
 "metadata": {
  "anaconda-cloud": {},
  "kernelspec": {
   "display_name": "Python 3 (ipykernel)",
   "language": "python",
   "name": "python3"
  },
  "lab": "lab05",
  "language_info": {
   "codemirror_mode": {
    "name": "ipython",
    "version": 3
   },
   "file_extension": ".py",
   "mimetype": "text/x-python",
   "name": "python",
   "nbconvert_exporter": "python",
   "pygments_lexer": "ipython3",
   "version": "3.9.13"
  },
  "section": "3"
 },
 "nbformat": 4,
 "nbformat_minor": 1
}
