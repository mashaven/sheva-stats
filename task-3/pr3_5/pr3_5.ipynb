{
 "cells": [
  {
   "cell_type": "markdown",
   "metadata": {},
   "source": [
    "# Завдання 4: Регресія\n",
    "\n",
    "У цій частині практичної роботі дослідимо властивості лінійної регресії.\n",
    "\n",
    "Для самоконтролю використовуються тести автогрейдера (from gofer.ok import check), як і в поперідній работі. Якщо Ви їх ще не використовували, то для їх викоритання необхідно інсталювати два додаткових модуля (через CMD.exe Prompt в ANACONDA NAVIGATOR) а саме:\n",
    "\n",
    "- **okgrade** (pip install okgrade) https://okgrade.readthedocs.io/_/downloads/en/latest/pdf/\n",
    "- **gofer** (pip install git+https://github.com/grading/gradememaybe.git) https://okgrade.readthedocs.io/en/latest/install/\n",
    "\n",
    "Якщо Ви не бажаєти їх викоритовувати, то закоментуйте відповідний рядок і не використовуйте рядки тесту (наприклад check('tests/q2_1.py'), ...). В такому разі Ви можете переглянути наявні тести у відповідній директорії"
   ]
  },
  {
   "cell_type": "code",
   "execution_count": null,
   "metadata": {},
   "outputs": [],
   "source": [
    "# Run this cell, but please don't change it.\n",
    "\n",
    "# These lines import the Numpy and Datascience modules.\n",
    "import numpy as np\n",
    "from datascience import *\n",
    "\n",
    "# These lines do some fancy plotting magic.\n",
    "import matplotlib\n",
    "%matplotlib inline\n",
    "import matplotlib.pyplot as plots\n",
    "plots.style.use('fivethirtyeight')\n",
    "import warnings\n",
    "warnings.simplefilter('ignore', FutureWarning)\n",
    "warnings.simplefilter('ignore', UserWarning)\n",
    "\n",
    "# These lines load the tests.\n",
    "from gofer.ok import check"
   ]
  },
  {
   "cell_type": "markdown",
   "metadata": {},
   "source": [
    "## 1. Наскільки точний Старий Служака? Продовжимо дослідження\n",
    "\n",
    "Давайте повернемося до запитання з практичної 2_5(2023). У минулій практичній ми досліджували Old Faithful, гейзер у Йеллоустоунському національному парку в Сполучених Штатах. Він відомий тим, що вивергається за досить регулярним графіком.\n",
    "\n",
    "Підсумовуючи раніше викладене - деякі з вивержень Old Faithful тривають довше, ніж інші. Сьогодні ми використаємо той самий набір даних щодо тривалості виверження та часу очікування, щоб побачити, чи зможемо ми передбачити час очікування на основі тривалості виверження за допомогою лінійної регресії.\n",
    "\n",
    "Деякі виверження Old Faithful тривають довше, ніж інші. При тривалому виверженні зазвичай доводиться довше чекати наступного виверження.\n",
    "\n",
    "Набір даних має один рядок для кожного виверження, що спостерігається. Він включає наступні стовпці:\n",
    "\n",
    "- **duration**: тривалість виверження, у хвилинах\n",
    "- **wait**: час між цим виверженням та наступним, також у хвилинах\n",
    "\n",
    "Запустіть наступну комірку, щоб завантажити набір даних.\n"
   ]
  },
  {
   "cell_type": "code",
   "execution_count": null,
   "metadata": {},
   "outputs": [],
   "source": [
    "faithful = Table.read_table(\"faithful.csv\")\n",
    "faithful"
   ]
  },
  {
   "cell_type": "markdown",
   "metadata": {},
   "source": [
    "Згадайте, що в минулій практичній роботі ми дійшли висновку, що час виверження та час очікування мають позитивну кореляцію. Таблиця нижче під назвою `faithful_standard` містить тривалість виверження та час очікування в стандартних одиницях."
   ]
  },
  {
   "cell_type": "code",
   "execution_count": null,
   "metadata": {},
   "outputs": [],
   "source": [
    "duration_mean = np.mean(faithful.column(\"duration\"))\n",
    "duration_std = np.std(faithful.column(\"duration\"))\n",
    "wait_mean = np.mean(faithful.column(\"wait\"))\n",
    "wait_std = np.std(faithful.column(\"wait\"))\n",
    "\n",
    "faithful_standard = Table().with_columns(\n",
    "    \"duration (standard units)\", (faithful.column(\"duration\") - duration_mean) / duration_std,\n",
    "    \"wait (standard units)\", (faithful.column(\"wait\") - wait_mean) / wait_std\n",
    ")\n",
    "faithful_standard"
   ]
  },
  {
   "cell_type": "markdown",
   "metadata": {},
   "source": [
    "У наступній комірці обчислюємо кореляцію  `r`"
   ]
  },
  {
   "cell_type": "code",
   "execution_count": null,
   "metadata": {},
   "outputs": [],
   "source": [
    "r = np.mean(faithful_standard.column(0) * faithful_standard.column(1))\n",
    "r"
   ]
  },
  {
   "cell_type": "markdown",
   "metadata": {},
   "source": [
    "## 2. Лінія регресії\n",
    "\n",
    "Коефіцієнт кореляції - це нахил (slope) лінії регресії, коли дані виражені в стандартних одиницях.\n",
    "\n",
    "У наступній комірці відображається лінія регресії в стандартних одиницях:\n",
    "$$\\text{waiting time (standard units)} = r \\times \\text{eruption duration (standard units)}.$$"
   ]
  },
  {
   "cell_type": "code",
   "execution_count": null,
   "metadata": {},
   "outputs": [],
   "source": [
    "def plot_data_and_line(dataset, x, y, point_0, point_1):\n",
    "    \"\"\"Makes a scatter plot of the dataset, along with a line passing through two points.\"\"\"\n",
    "    dataset.scatter(x, y, label=\"data\")\n",
    "    xs, ys = zip(point_0, point_1)\n",
    "    plots.plot(xs, ys, label=\"regression line\")\n",
    "    plots.legend(bbox_to_anchor=(1.5,.8))\n",
    "\n",
    "plot_data_and_line(faithful_standard, \n",
    "                   \"duration (standard units)\", \n",
    "                   \"wait (standard units)\", \n",
    "                   [-2, -2*r], \n",
    "                   [2, 2*r])"
   ]
  },
  {
   "cell_type": "markdown",
   "metadata": {},
   "source": [
    "Як би ви взяли точку у стандартних одиницях (SU) і перетворили її назад у вхідні (оригінільні) одиниці вимірювання? Нам довелося б «розтягнути» її горизонтальне положення на `duration_std`, а вертикальне — на `wait_std`.\n",
    "\n",
    "Це означає, що те саме станеться з нахилом лінії.\n",
    "\n",
    "«Розтягування» лінії по горизонталі робить її менш крутою, тому ми ділимо нахил на коефіцієнт розтягування. Розтягування лінії по вертикалі робить її більш крутою, тому ми множимо нахил на коефіцієнт розтягування.\n",
    "\n",
    "** <b>Завдання 2.1</b> **<br/>\n",
    "Який нахил лінії регресії у вихідних одиницях?\n",
    "\n",
    "(Якщо пояснення «розтягування» є неінтуїтивним, зверніться до лекції, або скористайтеся іншими джерелами, наприклад https://inferentialthinking.com/chapters/15/2/Regression_Line.html)"
   ]
  },
  {
   "cell_type": "code",
   "execution_count": null,
   "metadata": {},
   "outputs": [],
   "source": [
    "slope = ...\n",
    "slope"
   ]
  },
  {
   "cell_type": "markdown",
   "metadata": {},
   "source": [
    "Ми знаємо, що лінія регресії проходить через точку `(duration_mean, wait_mean)`. Ви маєте пам’ятаєте з математики та наших попередніх занять, що рівняння для прямої має вигляд:\n",
    "\n",
    "$$\\text{waiting time} - \\verb|wait_mean| = \\texttt{slope} \\times (\\text{eruption duration} - \\verb|duration_mean|)$$\n",
    "\n",
    "Після того, як це рівняння трохи переписали, перетин (intercept) виявиться таким:"
   ]
  },
  {
   "cell_type": "code",
   "execution_count": null,
   "metadata": {},
   "outputs": [],
   "source": [
    "intercept = slope*(-duration_mean) + wait_mean\n",
    "intercept"
   ]
  },
  {
   "cell_type": "code",
   "execution_count": null,
   "metadata": {},
   "outputs": [],
   "source": [
    "check('tests/q2_1.py')"
   ]
  },
  {
   "cell_type": "markdown",
   "metadata": {},
   "source": [
    "## 3. Дослідження лінії регресії\n",
    "Нахил (slope) і перетин (intercept) точно показують, як виглядає лінія регресії. Щоб передбачити час очікування виверження, помножте тривалість виверження на `slope`, а потім додайте `intercept`.\n",
    "\n",
    "** <b>Завдання 3.1</b> ** <br/>\n",
    "Обчисліть прогнозований час очікування для виверження, яке триває 2 хвилини, і для виверження, яке триває 5 хвилин."
   ]
  },
  {
   "cell_type": "code",
   "execution_count": null,
   "metadata": {},
   "outputs": [],
   "source": [
    "two_minute_predicted_waiting_time = ...\n",
    "five_minute_predicted_waiting_time = ...\n",
    "\n",
    "# Here is a helper function to print out your predictions\n",
    "# (you don't need to modify it):\n",
    "def print_prediction(duration, predicted_waiting_time):\n",
    "    print(\"After an eruption lasting\", duration,\n",
    "          \"minutes, we predict you'll wait\", predicted_waiting_time,\n",
    "          \"minutes until the next eruption.\")\n",
    "\n",
    "print_prediction(2, two_minute_predicted_waiting_time)\n",
    "print_prediction(5, five_minute_predicted_waiting_time)"
   ]
  },
  {
   "cell_type": "code",
   "execution_count": null,
   "metadata": {},
   "outputs": [],
   "source": [
    "check('tests/q3_1.py')"
   ]
  },
  {
   "cell_type": "markdown",
   "metadata": {},
   "source": [
    "Наступна комірка будує лінію, що проходить між цими двома точками, яка є (відрізком) лінії регресії."
   ]
  },
  {
   "cell_type": "code",
   "execution_count": null,
   "metadata": {
    "scrolled": false
   },
   "outputs": [],
   "source": [
    "plot_data_and_line(faithful, \"duration\", \"wait\", \n",
    "                   [2, two_minute_predicted_waiting_time], \n",
    "                   [5, five_minute_predicted_waiting_time])"
   ]
  },
  {
   "cell_type": "markdown",
   "metadata": {},
   "source": [
    "** <b>Завдання 3.2</b> ** <br/>\n",
    "Зробіть прогноз щодо часу очікування після кожного виверження в таблиці `faithful`. (Звичайно, ми точно знаємо, яким був час очікування! Ми робимо це, щоб побачити, наскільки точні наші прогнози.) Помістіть ці числа в стовпець у новій таблиці під назвою `faithful_predictions`. \n",
    "Її перший рядок повинен виглядати так:\n",
    "\n",
    "|duration|wait|predicted wait|\n",
    "|-|-|-|\n",
    "|3.6|79|72.1011|\n",
    "\n",
    "*Підказка:* Ваша відповідь може складатися лише з одного рядка. Немає потреби в циклі `for`; натомість використовуйте арифметику масиву (numpy)."
   ]
  },
  {
   "cell_type": "code",
   "execution_count": null,
   "metadata": {},
   "outputs": [],
   "source": [
    "faithful_predictions = ...\n",
    "faithful_predictions"
   ]
  },
  {
   "cell_type": "code",
   "execution_count": null,
   "metadata": {},
   "outputs": [],
   "source": [
    "check('tests/q3_2.py')"
   ]
  },
  {
   "cell_type": "markdown",
   "metadata": {},
   "source": [
    "** <b>Завдання 3.3</b> ** <br/>\n",
    "Наскільки точними ми були в прогнозі? Ми обчислили нев'язку(*залишок*) для кожного виверження в наборі даних. Нев'язка (*залишок*) — це різниця (причому не абсолютна різниця) між фактичним часом очікування та прогнозованим часом очікування. Додайте нев'язки до `faithful_predictions` як новий стовпець під назвою `\"residual\"`, назвавши отриману таблицю `faithful_residuals`.\n",
    "\n",
    "*Підказка:* Знову ж таки, Ваш код буде набагато простішим, якщо ви не використовуєте цикл `for`."
   ]
  },
  {
   "cell_type": "code",
   "execution_count": null,
   "metadata": {},
   "outputs": [],
   "source": [
    "residual = faithful_predictions.column(1) - faithful_predictions.column(2)\n",
    "faithful_residuals = ...\n",
    "faithful_residuals"
   ]
  },
  {
   "cell_type": "code",
   "execution_count": null,
   "metadata": {},
   "outputs": [],
   "source": [
    "check('tests/q3_3.py')"
   ]
  },
  {
   "cell_type": "markdown",
   "metadata": {},
   "source": [
    "Побудуємо графік обчислених Вами нев'язок. Кожна точка відповідає одному виверженню. Це показує, наскільки наш прогноз перевищив або занизив час очікування."
   ]
  },
  {
   "cell_type": "code",
   "execution_count": null,
   "metadata": {},
   "outputs": [],
   "source": [
    "faithful_residuals.scatter(\"duration\", \"residual\", color=\"r\")"
   ]
  },
  {
   "cell_type": "markdown",
   "metadata": {},
   "source": [
    "У нев'язках (*залишках*) не надто багато закономірностей, що підтверджують доцільність використання лінійної регресії для прогнозування. Це правда, що є дві окремі хмари; тривалість вивержень, здається, поділяється на два різних кластери. Але це лише закономірність тривалості виверження, а не закономірність співвідношення між тривалістю виверження та часом очікування. Більше занепокоєння викликає те, що в певній області горизонтальної осі може бути більше позитивних, ніж негативних залишків. Для обох кластерів точки розподілені досить рівномірно вище і нижче нуля, що є підтвердженням того, що залежність переважно лінійна."
   ]
  },
  {
   "cell_type": "markdown",
   "metadata": {},
   "source": [
    "## 4. Наскільки точні різні прогнози?\n",
    "Коефіцієнт кореляції близький до 1, що означає, що спостережувані значення щільно згруповані навколо лінії регресії. Нев'язки (*залишки*) загалом невеликі (близько 0) порівняно з часом очікування.\n",
    "\n",
    "Ми можемо побачити це візуально, побудувавши разом час очікування та нев'язки на одній діаграмі:"
   ]
  },
  {
   "cell_type": "code",
   "execution_count": null,
   "metadata": {},
   "outputs": [],
   "source": [
    "faithful_residuals.scatter(\"duration\", \"wait\", label=\"actual waiting time\", color=\"blue\")\n",
    "plots.scatter(faithful_residuals.column(\"duration\"), faithful_residuals.column(\"residual\"), label=\"residual\", color=\"r\")\n",
    "plots.plot([2, 5], [two_minute_predicted_waiting_time, five_minute_predicted_waiting_time], label=\"regression line\")\n",
    "plots.legend(bbox_to_anchor=(1.7,.8));"
   ]
  },
  {
   "cell_type": "markdown",
   "metadata": {},
   "source": [
    "** <b>Завдання 4.1</b> ** <br/>\n",
    "У таблиці `faithful` жодне виверження не тривало рівно 0, 2.5 або 60 хвилин. Використовуючи комірку нижче спрогнозуйте, який прогнозований час очікування для виверження, яке триває 0 хвилин? 2.5 хвилини? годину?"
   ]
  },
  {
   "cell_type": "code",
   "execution_count": null,
   "metadata": {},
   "outputs": [],
   "source": [
    "zero_minute_predicted_waiting_time = ...\n",
    "two_point_five_minute_predicted_waiting_time = ...\n",
    "hour_predicted_waiting_time = ...\n",
    "\n",
    "print_prediction(0, zero_minute_predicted_waiting_time)\n",
    "print_prediction(2.5, two_point_five_minute_predicted_waiting_time)\n",
    "print_prediction(60, hour_predicted_waiting_time)"
   ]
  },
  {
   "cell_type": "code",
   "execution_count": null,
   "metadata": {},
   "outputs": [],
   "source": [
    "check('tests/q4_1.py')"
   ]
  },
  {
   "cell_type": "markdown",
   "metadata": {},
   "source": [
    "## 5. Розділяй і володарюй"
   ]
  },
  {
   "cell_type": "markdown",
   "metadata": {},
   "source": [
    "Давайте подивимося, що станеться, якщо по-різному розглядати два кластери спостережень. З діаграми розсіювання видно, що є два кластери точок: один для тривалості близько 2, а інший для тривалості від 3.5 до 5. Вертикальна лінія в 3-ці розділяє два кластери."
   ]
  },
  {
   "cell_type": "code",
   "execution_count": null,
   "metadata": {},
   "outputs": [],
   "source": [
    "faithful.scatter(\"duration\", \"wait\", label=\"actual waiting time\", color=\"blue\")\n",
    "plots.plot([3, 3], [40, 100]);"
   ]
  },
  {
   "cell_type": "markdown",
   "metadata": {},
   "source": [
    "Нижче наведено функцію `standardize` із лекції, яка повертає таблицю значень у стандартних одиницях."
   ]
  },
  {
   "cell_type": "code",
   "execution_count": null,
   "metadata": {},
   "outputs": [],
   "source": [
    "def standard_units(any_numbers):\n",
    "    \"Convert any array of numbers to standard units.\"\n",
    "    return (any_numbers - np.mean(any_numbers)) / np.std(any_numbers)  \n",
    "\n",
    "def standardize(t):\n",
    "    \"\"\"Return a table in which all columns of t are converted to standard units.\"\"\"\n",
    "    t_su = Table()\n",
    "    for label in t.labels:\n",
    "        t_su = t_su.with_column(label + ' (su)', standard_units(t.column(label)))\n",
    "    return t_su"
   ]
  },
  {
   "cell_type": "markdown",
   "metadata": {},
   "source": [
    "**Завдання 5.1** <br/>\n",
    "Окремо обчисліть коефіцієнти регресії *r* для всіх точок із тривалістю менше 3 **а потім** для всіх точок із тривалістю понад 3. Для цього створіть функцію, яка обчислює `r` із таблиці та передайте ці дві різні таблиці точок, `below_3` і `above_3` в створену функцію.\n",
    "\n",
    "*Підказка*: Використовуйте метод *where* для вибірки http://www.data8.org/datascience/_autosummary/datascience.tables.Table.where.html#datascience.tables.Table.where"
   ]
  },
  {
   "cell_type": "code",
   "execution_count": null,
   "metadata": {},
   "outputs": [],
   "source": [
    "def reg_coeff(t):\n",
    "    \"\"\"Return the regression coefficient for columns 0 & 1.\"\"\"\n",
    "    t_su = standardize(t)\n",
    "    ...\n",
    "\n",
    "below_3 = ...\n",
    "above_3 = ...\n",
    "below_3_r = reg_coeff(below_3)\n",
    "above_3_r = reg_coeff(above_3)\n",
    "print(\"For points below 3, r is\", below_3_r, \"; for points above 3, r is\", above_3_r)"
   ]
  },
  {
   "cell_type": "code",
   "execution_count": null,
   "metadata": {},
   "outputs": [],
   "source": [
    "check('tests/q5_1.py')"
   ]
  },
  {
   "cell_type": "markdown",
   "metadata": {},
   "source": [
    "**Завдання 5.2** <br/>\n",
    "Напишіть функції `slope_of` і `intercept_of` нижче в комірці.\n",
    "\n",
    "Коли ви закінчите, функції `wait_below_3` і `wait_above_3` мають використовувати окремі лінії регресії, щоб передбачити час очікування для певної тривалості. Перша функція має використовувати лінію регресії для всіх точок із тривалістю менше 3.2. Друга функція повинна використовувати лінію регресії для всіх точок із тривалістю понад 3.2."
   ]
  },
  {
   "cell_type": "code",
   "execution_count": null,
   "metadata": {},
   "outputs": [],
   "source": [
    "def slope_of(t, r):\n",
    "    \"\"\"Return the slope of the regression line for t in original units.\n",
    "    \n",
    "    Assume that column 0 contains x values and column 1 contains y values.\n",
    "    r is the regression coefficient for x and y.\n",
    "    \"\"\"\n",
    "    ...\n",
    "\n",
    "def intercept_of(t, r):\n",
    "    \"\"\"Return the slope of the regression line for t in original units.\"\"\"\n",
    "    s = slope_of(t, r)\n",
    "    ...\n",
    "    \n",
    "below_3_a = slope_of(below_3, below_3_r)\n",
    "below_3_b = intercept_of(below_3, below_3_r)\n",
    "above_3_a = slope_of(above_3, above_3_r)\n",
    "above_3_b = intercept_of(above_3, above_3_r)\n",
    "\n",
    "def wait_below_3(duration):\n",
    "    return below_3_a * duration + below_3_b\n",
    "\n",
    "def wait_above_3(duration):\n",
    "    return above_3_a * duration + above_3_b"
   ]
  },
  {
   "cell_type": "code",
   "execution_count": null,
   "metadata": {},
   "outputs": [],
   "source": [
    "check('tests/q5_2.py')"
   ]
  },
  {
   "cell_type": "markdown",
   "metadata": {},
   "source": [
    "На графіку нижче показано дві різні лінії регресії, по одній для кожного кластера!"
   ]
  },
  {
   "cell_type": "code",
   "execution_count": null,
   "metadata": {},
   "outputs": [],
   "source": [
    "faithful.scatter(0, 1)\n",
    "plots.plot([1, 3], [wait_below_3(1), wait_below_3(3)])\n",
    "plots.plot([3, 6], [wait_above_3(3), wait_above_3(6)]);"
   ]
  },
  {
   "cell_type": "markdown",
   "metadata": {},
   "source": [
    "**Завдання 5.3** <br/>\n",
    "Напишіть функцію `predict_wait`, яка приймає `duration` (тривалість) і повертає прогнозований час очікування, використовуючи відповідну лінію регресії, залежно від того, чи є тривалість меншою за 3 чи більшою за (чи дорівнює) 3."
   ]
  },
  {
   "cell_type": "code",
   "execution_count": null,
   "metadata": {
    "for_assignment_type": "student"
   },
   "outputs": [],
   "source": [
    "def predict_wait(duration):\n",
    "    \"\"\"Return the wait predicted by the appropriate one of the two regression lines above.\"\"\"\n",
    "    ..."
   ]
  },
  {
   "cell_type": "code",
   "execution_count": null,
   "metadata": {},
   "outputs": [],
   "source": [
    "check('tests/q5_3.py')"
   ]
  },
  {
   "cell_type": "markdown",
   "metadata": {},
   "source": [
    "Прогнозований час очікування для кожної точки тривалості побачимо нижче."
   ]
  },
  {
   "cell_type": "code",
   "execution_count": null,
   "metadata": {},
   "outputs": [],
   "source": [
    "faithful.with_column('predicted', faithful.apply(predict_wait, 'duration')).scatter(0)"
   ]
  },
  {
   "cell_type": "markdown",
   "metadata": {},
   "source": [
    "**Подальше дослідження (за бажання, без оцінки)**:  під час побудови лінії регресії окремо через кожен кластер  ми виявили дві різні, але схожі лінії. Ось кілька природних запитань, які варто дослідити, якщо ви хочете продовжити роботу з цими даними:\n",
    " * How much more accurate do we expect predictions to be using two lines instead of one? Can we measure this improvement using residuals?Наскільки ми очікуємо точніших прогнозів, якщо використовувати два рядки замість одного? Чи можемо ми виміряти це покращення за допомогою залишків?\n",
    " * Чи справді лінії регресії різні, чи вони просто випадково вийшли різними, тому що ми маємо лише невелику кількість спостережень? Що Ви могли б сказати?\n",
    " * Чи може бути так, що нахили (slope) ліній однакові, а перетини (intercept) різні? "
   ]
  },
  {
   "cell_type": "markdown",
   "metadata": {},
   "source": [
    "## Контроль"
   ]
  },
  {
   "cell_type": "markdown",
   "metadata": {},
   "source": [
    "Ви закінчили з даною частиною практичної роботи! Аби перевірити, що всі завдання виконані вірно, виконайте наступні дії...\n",
    "- **ВАЖЛИВО** Перш ніж щось робити, виберіть, **Save and Checkpoint** з меню `File`. Будь ласка, зробіть це спочатку, перш ніж запускати клітинку нижче,\n",
    "- **запустіть усі тести та перевірте, чи всі вони пройшли успішно** (у наступній клітинці є перевірка для цього), \n",
    "- **Перегляньте notebook востаннє, перевірятися буде остаточний стан вашого notebook. Якщо ви вносили будь-які зміни, збережіть і запустіть всі рядки ще раз** Якщо ви вносили будь-які зміни, запустіть поллідовно всі рядки ще раз і збережіть **Save and Checkpoint** повторно."
   ]
  },
  {
   "cell_type": "code",
   "execution_count": null,
   "metadata": {},
   "outputs": [],
   "source": [
    "# For your convenience, you can run this cell to run all the tests at once!\n",
    "import glob\n",
    "from gofer.ok import grade_notebook\n",
    "if not globals().get('__GOFER_GRADER__', False):\n",
    "    display(grade_notebook('pr3_5.ipynb', sorted(glob.glob('tests/q*.py'))))"
   ]
  },
  {
   "cell_type": "code",
   "execution_count": null,
   "metadata": {},
   "outputs": [],
   "source": []
  }
 ],
 "metadata": {
  "anaconda-cloud": {},
  "kernelspec": {
   "display_name": "Python 3 (ipykernel)",
   "language": "python",
   "name": "python3"
  },
  "lab": "lab02",
  "language_info": {
   "codemirror_mode": {
    "name": "ipython",
    "version": 3
   },
   "file_extension": ".py",
   "mimetype": "text/x-python",
   "name": "python",
   "nbconvert_exporter": "python",
   "pygments_lexer": "ipython3",
   "version": "3.9.13"
  },
  "section": "3"
 },
 "nbformat": 4,
 "nbformat_minor": 1
}
