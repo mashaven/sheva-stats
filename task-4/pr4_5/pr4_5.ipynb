{
 "cells": [
  {
   "cell_type": "markdown",
   "metadata": {},
   "source": [
    "# Завдання 4: Регресіне моделювання\n",
    "\n",
    "Іноді основна мета регресійного аналізу - дізнатися щось про нахил або перетин найбільш відповідної лінії регресії. Коли ми використовуємо вибірку даних для оцінки нахилу або перетину, наша оцінка схильна до випадкової помилки, як і наші оцінки середніх і медіан генеральної сукупності.\n",
    "\n",
    "У цій практичній роботі ми будемо використовувати лінійну регресію для оцінки віку Всесвіту за зображеннями зірок, що вибухають (актуальне питання як для астрофізиків, так і для геофізиків). Наша оцінка буде використовувати вибірку зірок, що вибухнули. Ми обчислимо довірчий інтервал для кількісної оцінки похибки, спричиненої вибіркою.\n",
    "\n",
    "Для самоконтролю використовуються тести автогрейдера (from gofer.ok import check), як і в поперідній работі. Якщо Ви їх ще не використовували, то для їх викоритання необхідно інсталювати два додаткових модуля (через CMD.exe Prompt в ANACONDA NAVIGATOR) а саме:\n",
    "\n",
    "- **okgrade** (pip install okgrade) https://okgrade.readthedocs.io/_/downloads/en/latest/pdf/\n",
    "- **gofer** (pip install git+https://github.com/grading/gradememaybe.git) https://okgrade.readthedocs.io/en/latest/install/\n",
    "\n",
    "Якщо Ви не бажаєти їх викоритовувати, то закоментуйте відповідний рядок і не використовуйте рядки тесту (наприклад check('tests/q2_1.py'), ...). В такому разі Ви можете переглянути наявні тести у відповідній директорії"
   ]
  },
  {
   "cell_type": "code",
   "execution_count": null,
   "metadata": {},
   "outputs": [],
   "source": [
    "# Run this cell, but please don't change it.\n",
    "\n",
    "# These lines import the Numpy and Datascience modules.\n",
    "import numpy as np\n",
    "from datascience import *\n",
    "\n",
    "# These lines do some fancy plotting magic\n",
    "import matplotlib\n",
    "%matplotlib inline\n",
    "import matplotlib.pyplot as plt\n",
    "plt.style.use('fivethirtyeight')\n",
    "import warnings\n",
    "warnings.simplefilter('ignore', FutureWarning)\n",
    "warnings.simplefilter('ignore', UserWarning)\n",
    "from matplotlib import patches\n",
    "from ipywidgets import interact, interactive, fixed\n",
    "import ipywidgets as widgets\n",
    "\n",
    "# These lines load the tests.\n",
    "from gofer.ok import check"
   ]
  },
  {
   "cell_type": "markdown",
   "metadata": {},
   "source": [
    "## 1. Вік Всесвіту\n",
    "\n",
    "### Справжня теорія Великого вибуху (Big Bang theory)\n",
    "На початку 20 століття найпопулярніша космологічна теорія передбачала, що Всесвіт завжди був фіксованого розміру. Сьогодні переважає теорія Великого вибуху: наш Всесвіт спочатку був дуже маленьким (у сінгулярності) і продовжує розширюватися.\n",
    "\n",
    "Наслідком цього є закон Хаббла, який свідчить, що розширення Всесвіту створює видимість того, що кожен небесний об'єкт, що знаходиться досить далеко від Землі (наприклад, інша галактика), віддаляється від нас із постійною швидкістю. Якщо ми екстраполюємо цей рух у минуле, на той час, коли все у Всесвіті було в \"одному\" місці, то цей час і буде (приблизно) початком Всесвіту (віком Всесвіту)!\n",
    "\n",
    "Вчені використовували цей факт, поряд з вимірами поточного місця *розташування* і *швидкості руху* інших небесних об'єктів, щоб оцінити, коли виник Всесвіт.\n",
    "\n",
    "Комірка нижче імітує Всесвіт, у якому наше Сонце є центром, а решта зірок віддаляється від нас. Кожна зірка починає рух з того самого місця, де знаходиться Сонце, а потім згодом віддаляється від нього. Різні зірки мають різні напрямки *та швидкості*; стрілки вказують напрямок і швидкість руху.\n",
    "\n",
    "Запустіть наступну комірку, потім перемістіть повзунок, щоб побачити, як усе змінюється з часом."
   ]
  },
  {
   "cell_type": "code",
   "execution_count": null,
   "metadata": {},
   "outputs": [],
   "source": [
    "# Just run this cell.  (The simulation is actually not\n",
    "# that complicated; it just takes a lot of code to draw\n",
    "# everything.  So you don't need to read this unless you\n",
    "# have time and are curious about more advanced plotting.)\n",
    "\n",
    "num_locations = 15\n",
    "example_velocities = Table().with_columns(\n",
    "    \"x\", np.random.normal(size=num_locations),\n",
    "    \"y\", np.random.normal(size=num_locations))\n",
    "start_of_time = -2\n",
    "\n",
    "def scatter_after_time(t, start_of_time, end_of_time, velocities, center_name, other_point_name, make_title):\n",
    "    max_location = 1.1*(end_of_time-start_of_time)*max(max(abs(velocities.column(\"x\"))), max(abs(velocities.column(\"y\"))))\n",
    "    new_locations = velocities.with_columns(\n",
    "            \"x\", (t-start_of_time)*velocities.column(\"x\"),\n",
    "            \"y\", (t-start_of_time)*velocities.column(\"y\"))\n",
    "    plt.scatter(make_array(0), make_array(0), label=center_name, s=100, c=\"yellow\")\n",
    "    plt.scatter(new_locations.column(\"x\"), new_locations.column(\"y\"), label=other_point_name)\n",
    "    for i in np.arange(new_locations.num_rows):\n",
    "        plt.arrow(\n",
    "            new_locations.column(\"x\").item(i),\n",
    "            new_locations.column(\"y\").item(i),\n",
    "            velocities.column(\"x\").item(i),\n",
    "            velocities.column(\"y\").item(i),\n",
    "            fc='black',\n",
    "            ec='black',\n",
    "            head_width=0.025*max_location,\n",
    "            lw=.15)\n",
    "    plt.xlim(-max_location, max_location)\n",
    "    plt.ylim(-max_location, max_location)\n",
    "    plt.gca().set_aspect('equal', adjustable='box')\n",
    "    plt.gca().set_position(make_array(0, 0, 1, 1))\n",
    "    plt.legend(bbox_to_anchor=(1.6, .7))\n",
    "    plt.title(make_title(t))\n",
    "    plt.show()\n",
    "\n",
    "interact(\n",
    "    scatter_after_time,\n",
    "    t=widgets.FloatSlider(min=start_of_time, max=5, step=.05, value=0, msg_throttle=1),\n",
    "    start_of_time=fixed(start_of_time),\n",
    "    end_of_time=fixed(5),\n",
    "    velocities=fixed(example_velocities),\n",
    "    center_name=fixed(\"our sun\"),\n",
    "    other_point_name=fixed(\"other star\"),\n",
    "    make_title=fixed(lambda t: \"The world {:01g} year{} in the {}\".format(abs(t), \"\" if abs(t) == 1 else \"s\", \"past\" if t < 0 else \"future\")));"
   ]
  },
  {
   "cell_type": "markdown",
   "metadata": {},
   "source": [
    "### Аналогія: водіння\n",
    "Ось аналогія, щоб проілюструвати, як вчені використовують інформацію про зірки для оцінки віку Всесвіту.\n",
    "\n",
    "Припустімо, що в якийсь момент у минулому наша друг, нехай це буде Олександр, почав їхати в машині зі стабільною швидкістю 60 кілометрів на годину на схід. Ми ж все ще стоїмо там, звідки він почав рух."
   ]
  },
  {
   "cell_type": "code",
   "execution_count": null,
   "metadata": {},
   "outputs": [],
   "source": [
    "# Run this cell to see a picture of Olexander's locations over time.\n",
    "\n",
    "mei_velocity = Table().with_columns(\"x\", make_array(60), \"y\", make_array(0))\n",
    "interact(\n",
    "    scatter_after_time,\n",
    "    t=widgets.FloatSlider(min=-2, max=1, step=.05, value=0, msg_throttle=1),\n",
    "    start_of_time=fixed(-2),\n",
    "    end_of_time=fixed(1),\n",
    "    velocities=fixed(mei_velocity),\n",
    "    center_name=fixed(\"Us\"),\n",
    "    other_point_name=fixed(\"Olexander\"),\n",
    "    make_title=fixed(lambda t: \"Olexander's position {:01g} hour{} in the {}\".format(abs(t), \"\" if abs(t) == 1 else \"s\", \"past\" if t < 0 else \"future\")));"
   ]
  },
  {
   "cell_type": "markdown",
   "metadata": {},
   "source": [
    "Ми хочемо знати, як довго він був за кермом, але ми забули записати час, коли він почав рух. Якщо ми дізнаємося, що він знаходиться за 120 кілометрів від нас і весь цей час їде зі швидкістю 60 кілометрів на годину, ми можемо зробити висновок, що він почав рух 2 години тому.\n",
    "\n",
    "Один із способів, яким ми можемо обчислити це число, - це оціночна лінія (лінія регресії) для діаграми розсіювання наших позицій і швидкостей. Виявляється, *нахил* (*slope*) цієї лінії - це кількість часу, що минув. Запустіть наступну комірку, щоб побачити зображення:"
   ]
  },
  {
   "cell_type": "code",
   "execution_count": null,
   "metadata": {},
   "outputs": [],
   "source": [
    "# Just run this cell.\n",
    "small_driving_example = Table().with_columns(\n",
    "        \"Name\",                                       make_array(\"Us\", \"Olexander\"),\n",
    "        \"Speed moving away from us (kilometers per hour)\", make_array(0,    60),\n",
    "        \"Current distance from us (kilometers)\",           make_array(0,    120))\n",
    "\n",
    "small_driving_example.scatter(1, 2, s=200, fit_line=True)\n",
    "\n",
    "# Fancy magic to draw each person's name with their dot.\n",
    "with_slope_indicator = small_driving_example.with_row(\n",
    "    [\"Slope = 2\\ hours\", small_driving_example.column(1).mean(), small_driving_example.column(2).mean()])\n",
    "for i in range(with_slope_indicator.num_rows):\n",
    "    name = with_slope_indicator.column(0).item(i)\n",
    "    x = with_slope_indicator.column(1).item(i)\n",
    "    y = with_slope_indicator.column(2).item(i)\n",
    "    plt.scatter(make_array(x - 15), make_array(y + 15), s=1000*len(name), marker=\"$\\mathrm{\" + name + \"}$\")"
   ]
  },
  {
   "cell_type": "markdown",
   "metadata": {},
   "source": [
    "Нахил (slope) лінії - 2 години. (Одиницями виміру є - одиниці виміру по вертикальній осі, поділені на одиниці виміру по горизонтальній осі, які дорівнюють $\\frac{\\texttt{кілометрів}}{\\texttt{кілометрів} / \\texttt{годину}}$, або `годин`.) Отже, це наша відповідь.\n",
    "\n",
    "Уявіть, що ви не знаєте точної відстані чи швидкості Олександра, лише приблизні оцінки. Тоді, якщо ви намалюєте цю лінію, ви отримаєте трохи \"погану\" оцінку часу, що проїхав Олександр відтоді, як почав рух. Але якби ви виміряли відстань і швидкість сотень людей, які почали рух від Вас одночасно на різних швидкостях, і ми провели лінію регресії чарез сотні вимірів (нехай і недостатньо точних), нахил цієї лінії був би досить гарною оцінкою часу, який вони проїхали, і дійсно, навіть якщо індивідуальні вимірювання були не зовсім точними.\n",
    "\n",
    "Набір даних `drivers.csv` містить швидкість і дистанцію від початку руху для 100 водіїв. Усі вони покинули одне й те саме стартове місце одночасно, рухаючись із фіксованою швидкістю по прямій від старту. Виміри є не точними, тому вони не відповідають точній лінії регресії. Ми створили діаграму розсіювання та провели лінію регресії через ці дані."
   ]
  },
  {
   "cell_type": "code",
   "execution_count": null,
   "metadata": {},
   "outputs": [],
   "source": [
    "# Just run this cell.\n",
    "Table.read_table(\"drivers.csv\").scatter(0, 1, fit_line=True)"
   ]
  },
  {
   "cell_type": "markdown",
   "metadata": {},
   "source": [
    "** <b>Завдання 1.1</b> ** <br/>\n",
    "Подивившись на відповідну лінію і оцініть, як давно (у годинах) Олександр проїхів."
   ]
  },
  {
   "cell_type": "code",
   "execution_count": null,
   "metadata": {},
   "outputs": [],
   "source": [
    "# Fill in the start time you infer from the above line.\n",
    "# You can define additional functions\n",
    "driving_start_time_hours = ...\n",
    "driving_start_time_hours"
   ]
  },
  {
   "cell_type": "code",
   "execution_count": null,
   "metadata": {
    "scrolled": true
   },
   "outputs": [],
   "source": [
    "check('tests/q1_1.py')"
   ]
  },
  {
   "cell_type": "markdown",
   "metadata": {},
   "source": [
    "### Повернемося до космології\n",
    "Щоб зробити те саме для Всесвіту, нам потрібно знати відстань від Землі та швидкість від Землі для багатьох небесних об’єктів. Використовуючи фотографії, зроблені дуже точними телескопами, і фізичні обчислення, астрономи змогли оцінити обидва критерії. Виявляється, що *найближчі наднові* — зірки, які нещодавно загинули та вибухнули — є одними з найкращих джерел цих даних, оскільки їх відносно легко побачити. На цьому знімку, зробленому телескопом Hubble, зображена ціла галактика з однією надновою, яка сама по собі яскрава, як мільярди зірок, знизу ліворуч.\n",
    "\n",
    "<img src=\"supernova.jpg\">\n",
    "\n",
    "Ці астрономічні дані на сьогодні надходять із [Проекту космології наднових](http://supernova.lbl.gov/union/) у Лабораторії Лоуренса Берклі. Оригінальний набір даних знаходиться [тут](http://supernova.lbl.gov/union/figures/SCPUnion2.1_mu_vs_z.txt), із (короткою) документацією [тут](http://supernova.lbl.gov/union/descriptions.html#Magvsz). Кожен рядок у таблиці відповідає надновій зірці поблизу Землі, яку спостерігали астрономи. З фотографій, подібних до наведеної вище, астрономи зробили висновок про те, наскільки далеко кожна наднова була від Землі та як швидко вона віддалялася від Землі. Їх висновки були гарними, але не ідеальними.\n",
    "\n",
    "Запустіть наступну комірку, щоб завантажити дані в таблицю під назвою `close_novas` і створити діаграму розсіювання. (Якщо ви віддаєте перевагу, ви також можете використати назву `close_novae`; обидві назви правильні.)"
   ]
  },
  {
   "cell_type": "code",
   "execution_count": null,
   "metadata": {},
   "outputs": [],
   "source": [
    "# Just run this cell.\n",
    "close_novas = Table.read_table(\"close_novas.csv\")\n",
    "close_novae = close_novas\n",
    "\n",
    "close_novas.scatter(0, 1, fit_line=True)\n",
    "close_novas"
   ]
  },
  {
   "cell_type": "markdown",
   "metadata": {},
   "source": [
    "** <b>Завдання 1.2</b> ** <br/>\n",
    "Дивлячись на цю діагрму, здогадайтеся про вік Всесвіту.\n",
    "\n",
    "**Примітка**: переконайтеся, що Ви правильно визначили одиниці вимірюванн! Якщо вам потрібно знати, що таке парсек, то це велика одиниця відстані, еквівалентна 30,86 трильйону кілометрів."
   ]
  },
  {
   "cell_type": "code",
   "execution_count": null,
   "metadata": {},
   "outputs": [],
   "source": [
    "# Fill this in manually by examining the line above.\n",
    "first_guess_universe_age_years = ...\n",
    "\n",
    "# This just shows your guess as a nice string, in billions of years.\n",
    "\"{:,} billion years\".format(round(first_guess_universe_age_years / 1e9, 2))"
   ]
  },
  {
   "cell_type": "code",
   "execution_count": null,
   "metadata": {},
   "outputs": [],
   "source": [
    "check('tests/q1_2.py')"
   ]
  },
  {
   "cell_type": "markdown",
   "metadata": {},
   "source": [
    "### Підбір лінії своїми руками\n",
    "`fit_line=True` це зручно, але нам потрібно мати можливість обчислити нахил (slope) як число. Згадайте, що лінія регресії підібрана методом найменших квадратів для наших даних про наднову виглядає так:\n",
    "* лінія\n",
    "* з найменшими середнім (за всіма надновими, які ми спостерігаємо)\n",
    "* похобками,\n",
    "* підведеними до квадрату,\n",
    "* де похибка є\n",
    "\n",
    "$$\\text{фактична відстань наднової від Землі} - \\text{висота лінії швидкості цієї наднової.}$$"
   ]
  },
  {
   "cell_type": "markdown",
   "metadata": {},
   "source": [
    "** <b>Завдання 1.3</b> ** <br/>\n",
    "Визначте функцію під назвою `errors`. Вона має приймати три аргументи:\n",
    "1. таблиця на зразок `close_novas` (з однаковими назвами стовпців і значеннями, але не обов’язково однаковими даними)\n",
    "2. нахил (slope) лінії регресії (число)\n",
    "3. перетин (intercept) лінії регресії (число).\n",
    "\n",
    "Функція повинна повернути масив похибок, допущених, коли лінія з таким нахилом і перетином використовується для прогнозування відстані за швидкостю для кожної наднової в даній таблиці. (Похибка — це фактична відстань мінус прогнозована відстань.)"
   ]
  },
  {
   "cell_type": "code",
   "execution_count": null,
   "metadata": {
    "for_assignment_type": "student"
   },
   "outputs": [],
   "source": [
    "def errors(t, slope, intercept):\n",
    "    ...\n",
    "    return ..."
   ]
  },
  {
   "cell_type": "markdown",
   "metadata": {},
   "source": [
    "** <b>Завдання 1.4</b> ** <br/>\n",
    "Using `errors`, compute the errors for the line with slope `16000` and intercept `0` on the `close_novas` dataset.  Name that array `example_errors`.  Then make a scatter plot of the errors. Використовуючи функцію  `errors`, обчисліть похибки для лінії регресії з нахилом (slope) `16000` і перетином (intercept) `0` у наборі даних `close_novas`. Назвіть цей масив `example_errors`. Потім побудуйте діаграму розсіювання для нев'язок.\n",
    "\n",
    "**Підказка:** Щоб створити діаграму розсіювання нев'язок, побудуйте діаграму нев'язок для кожної наднової в наборі даних. Відкладіть фактичну швидкість на горизонтальній осі, а нев'язку – на вертикальній."
   ]
  },
  {
   "cell_type": "code",
   "execution_count": null,
   "metadata": {
    "scrolled": true
   },
   "outputs": [],
   "source": [
    "example_errors = ...\n",
    "..."
   ]
  },
  {
   "cell_type": "code",
   "execution_count": null,
   "metadata": {},
   "outputs": [],
   "source": [
    "check('tests/q1_4.py')"
   ]
  },
  {
   "cell_type": "markdown",
   "metadata": {},
   "source": [
    "Ви повинні відмітити, що майже всі нев'язки є від'ємними. Це означає, що наша лінія трохи крута. Давай знайдемо кращу."
   ]
  },
  {
   "cell_type": "markdown",
   "metadata": {},
   "source": [
    "** <b>Завдання 1.5</b> ** <br/>\n",
    "Визначте функцію під назвою `fit_line`. Вона повинна прийняти таблицю на кшталт `close_novas` (з тими ж назвами стовпців і значеннями) як аргумент. Вона повинна повернути масив, що містить нахил (slope) (як елемент 0) і перетин (intercept) (як елемент 1) лінії регресії за методом найменших квадратів, яка прогнозує відстань за швидкостю для цієї таблиці.\n",
    "\n",
    "**Підказка:** Якщо ви ще не намагалися використовувати функцію [`minimize` function](http://data8.org/datascience/util.html#datascience.util.minimize), зараз саме час попрактикуватися. Ось [приклад із підручника](https://www.inferentialthinking.com/chapters/15/3/Method_of_Least_Squares)."
   ]
  },
  {
   "cell_type": "code",
   "execution_count": null,
   "metadata": {},
   "outputs": [],
   "source": [
    "def fit_line(tbl):\n",
    "    # Your code may need more than 1 line below here.\n",
    "    # Rather than using the regression line formulas, try\n",
    "    # calling minimize on the mean squared error.\n",
    "    ...\n",
    "    slope = ...\n",
    "    intercept = ...\n",
    "    return make_array(slope, intercept)\n",
    "    \n",
    "# Here is an example call to your function.  To test your function,\n",
    "# figure out the right slope and intercept by hand.\n",
    "example_table = Table().with_columns(\n",
    "    \"Speed (parsecs/year)\", make_array(0, 1),\n",
    "    \"Distance (million parsecs)\", make_array(1, 3))\n",
    "fit_line(example_table)"
   ]
  },
  {
   "cell_type": "code",
   "execution_count": null,
   "metadata": {},
   "outputs": [],
   "source": [
    "check('tests/q1_5.py')"
   ]
  },
  {
   "cell_type": "markdown",
   "metadata": {},
   "source": [
    "** <b>Завдання 1.6</b> ** <br/>\n",
    "Використовуйте визначану функцію, щоб підібрати лінію регресії до `close_novas`.\n",
    "\n",
    "Потім визначте змінну `new_errors` рівною нев'язкам, які ми отримуємо, викликаючи функцію `errors` з параметрами для нашої нової лінії регресії. У комірці нижче буде зображено відповідну дяаграму нев'язок із лінією регресії, яка найкраще оцінює дані.\n",
    "\n",
    "Переконайтеся, що діаграма розсіювання нев'язок має сенс (Підказка: які критерії повинна мати найкраще підібрана лінія регресії для діаграми нев'язок?)"
   ]
  },
  {
   "cell_type": "code",
   "execution_count": null,
   "metadata": {
    "scrolled": false
   },
   "outputs": [],
   "source": [
    "best_line = ...\n",
    "best_line_slope = ...\n",
    "best_line_intercept = ...\n",
    "\n",
    "new_errors = ...\n",
    "\n",
    "# This code displays the residual plot, given your values for the best_line_slope and best_line_intercept\n",
    "Table().with_columns(\"Speed (parsecs/year)\", \n",
    "                    close_novas.column(\"Speed (parsecs/year)\"), \n",
    "                    \"Distance errors (million parsecs)\", \n",
    "                    new_errors\n",
    "                   ).scatter(0, 1, fit_line=True)\n",
    "\n",
    "# This just shows your answer as a nice string, in billions of years.\n",
    "\"Slope: {:g} (corresponding to an estimated age of {:,} billion years)\".format(best_line_slope, round(best_line_slope/1000, 4))"
   ]
  },
  {
   "cell_type": "markdown",
   "metadata": {},
   "source": [
    "Цей нахил (slope) (помножений на 1 мільйон) є приблизною оцінкою віку Всесвіту. Найкраща поточна оцінка віку Всесвіту (з використанням трохи складніших методів) становить 13,799 мільярда років. Ми наблизилися до такої оцінки? \n",
    "\n",
    "Однією з причин, чому наша відповідь може бути трохи неточною, є те, що ми використовуємо вибірку лише деяких наднових зірок у Всесвіті. Наша вибірка не зовсім випадкова, оскільки астрономи, ймовірно, вибрали наднові, які було найлегше виміряти (або використали інші невипадкові критерії). Але припустімо, що отриманий результат нас влаштовує. Як ми можемо отримати довірчий інтервал для віку Всесвіту?"
   ]
  },
  {
   "cell_type": "markdown",
   "metadata": {},
   "source": [
    "** <b>Завдання 1.7</b> ** <br/>\n",
    "Настав час пезапустити вибірку багато разів (resampling), щоб ми могли кількісно визначити варіабельність нашої оцінки! Змоделюємо 1000 повторних вибірок (resampling) із `close_novas`. Для кожної повторної вибірки обчисліть нахил (slope) лінії регресії за методом найменших квадратів і помножте його на 1 мільйон, щоб обчислити оцінку віку Всесвіту. Зберігайте ці віки в масиві під назвою `bootstrap_ages`, а потім використовуйте їх для обчислення 95% довірчого інтервалу для віку Всесвіту.\n",
    "\n",
    "**Примітка.** Це може зайняти до хвилини, а при повторенні ще більше."
   ]
  },
  {
   "cell_type": "code",
   "execution_count": null,
   "metadata": {},
   "outputs": [],
   "source": [
    "bootstrap_ages = make_array()\n",
    "for i in np.arange(1000):\n",
    "    bootstrap_ages = ...\n",
    "\n",
    "lower_end = ...\n",
    "upper_end = ...\n",
    "Table().with_column(\"Age estimate\", bootstrap_ages*1e-9).hist(bins=np.arange(12, 16, .1), unit=\"billion years\")\n",
    "print(\"95% confidence interval for the age of the universe: [{:g}, {:g}] billion years\".format(lower_end*1e-9, upper_end*1e-9))"
   ]
  },
  {
   "cell_type": "code",
   "execution_count": null,
   "metadata": {},
   "outputs": [],
   "source": [
    "check('tests/q1_7.py')"
   ]
  },
  {
   "cell_type": "markdown",
   "metadata": {},
   "source": [
    " Ми це зробили, майже як астрофізики чи геофізики! Ви можете порівняти свій результат із [результатами проекту Planck 2015](https://arxiv.org/pdf/1502.01589.pdf), який оцінив вік Всесвіту в 13,799±0,021 мільярдів років."
   ]
  },
  {
   "cell_type": "markdown",
   "metadata": {},
   "source": [
    "## Контроль"
   ]
  },
  {
   "cell_type": "markdown",
   "metadata": {},
   "source": [
    "Ви закінчили з даною частиною практичної роботи! Аби перевірити, що всі завдання виконані вірно, виконайте наступні дії...\n",
    "- **ВАЖЛИВО** Перш ніж щось робити, виберіть, **Save and Checkpoint** з меню `File`. Будь ласка, зробіть це спочатку, перш ніж запускати клітинку нижче,\n",
    "- **запустіть усі тести та перевірте, чи всі вони пройшли успішно** (у наступній клітинці є перевірка для цього), \n",
    "- **Перегляньте notebook востаннє, перевірятися буде остаточний стан вашого notebook. Якщо ви вносили будь-які зміни, збережіть і запустіть всі рядки ще раз** Якщо ви вносили будь-які зміни, запустіть поллідовно всі рядки ще раз і збережіть **Save and Checkpoint** повторно."
   ]
  },
  {
   "cell_type": "code",
   "execution_count": null,
   "metadata": {},
   "outputs": [],
   "source": [
    "# For your convenience, you can run this cell to run all the tests at once!\n",
    "import glob\n",
    "from gofer.ok import grade_notebook\n",
    "if not globals().get('__GOFER_GRADER__', False):\n",
    "    display(grade_notebook('pr4_5.ipynb', sorted(glob.glob('tests/q*.py'))))"
   ]
  },
  {
   "cell_type": "code",
   "execution_count": null,
   "metadata": {},
   "outputs": [],
   "source": []
  }
 ],
 "metadata": {
  "anaconda-cloud": {},
  "kernelspec": {
   "display_name": "Python 3 (ipykernel)",
   "language": "python",
   "name": "python3"
  },
  "lab": "lab03",
  "language_info": {
   "codemirror_mode": {
    "name": "ipython",
    "version": 3
   },
   "file_extension": ".py",
   "mimetype": "text/x-python",
   "name": "python",
   "nbconvert_exporter": "python",
   "pygments_lexer": "ipython3",
   "version": "3.9.13"
  },
  "section": "3",
  "widgets": {
   "state": {
    "6c09ba2474d24e10bdd21db7b9699237": {
     "views": [
      {
       "cell_index": 9
      }
     ]
    },
    "ef0a0194fbdd498787d3894efa009a7e": {
     "views": [
      {
       "cell_index": 3
      }
     ]
    }
   },
   "version": "1.2.0"
  }
 },
 "nbformat": 4,
 "nbformat_minor": 1
}
